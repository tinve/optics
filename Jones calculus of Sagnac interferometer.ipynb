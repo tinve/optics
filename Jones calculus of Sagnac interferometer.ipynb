{
 "cells": [
  {
   "cell_type": "code",
   "execution_count": 2,
   "metadata": {
    "collapsed": false
   },
   "outputs": [],
   "source": [
    "from __future__ import division\n",
    "\n",
    "from sympy import *\n",
    "\n",
    "init_printing()"
   ]
  },
  {
   "cell_type": "markdown",
   "metadata": {},
   "source": [
    "## Define symbols"
   ]
  },
  {
   "cell_type": "code",
   "execution_count": 3,
   "metadata": {
    "collapsed": true
   },
   "outputs": [],
   "source": [
    "# time\n",
    "t = Symbol('t')\n",
    "\n",
    "# phase shifts of EOM\n",
    "# constant shifts\n",
    "phi_in0  = Symbol('phi_in^0')\n",
    "phi_out0 = Symbol('phi_out^0')\n",
    "\n",
    "# amplitude of variable part\n",
    "phi_ina  = Symbol('phi_in^a')\n",
    "phi_outa = Symbol('phi_out^a')\n",
    "\n",
    "# frequency\n",
    "omega = Symbol('omega')\n",
    "\n",
    "# time delay\n",
    "tau = Symbol('tau')\n",
    "# special case when delay is exactly pi\n",
    "# tau = pi / omega\n",
    "\n",
    "# total phase shift in and out of plane\n",
    "\n",
    "# just constants for starters\n",
    "# phi_in = Symbol('phi_in')\n",
    "# phi_out = Symbol('phi_out')\n",
    "\n",
    "phi_in_t    = phi_in0  + phi_ina  * sin(omega * t)\n",
    "phi_out_t   = phi_out0 + phi_outa * sin(omega * t)\n",
    "phi_in_tau  = simplify(phi_in_t.subs(t, t + tau))\n",
    "phi_out_tau = simplify(phi_out_t.subs(t, t + tau))\n",
    "\n",
    "\n",
    "# fiber phase shifts in (1) and out (2) of plane. Constants.\n",
    "phi_1 = Symbol('phi_1')\n",
    "phi_2 = Symbol('phi_2')\n",
    "\n",
    "\n",
    "# waveplate phase shifts and Jones matrix\n",
    "# angle between axis x and fast axis of linear waveplate.\n",
    "theta = Symbol('theta')\n",
    "\n",
    "# phase retardation for fast and slow axes:\n",
    "phi_fast = Symbol('phi_fast')\n",
    "phi_slow = Symbol('phi_slow')\n",
    "\n",
    "# waveplate matrix\n",
    "M_waveplate = Matrix([[exp(I * phi_fast) * cos(theta) ** 2 + exp(I * phi_slow) * sin(theta) ** 2,\n",
    "                      (exp(I * phi_fast) - exp(I * phi_slow)) * cos(theta) * sin(theta)],\n",
    "                     [(exp(I * phi_fast) - exp(I * phi_slow)) * cos(theta) * sin(theta),\n",
    "                       exp(I * phi_fast) * sin(theta) ** 2 + exp(I * phi_slow) * cos(theta) ** 2]])\n",
    "\n",
    "\n",
    "# phase retardation by sample\n",
    "theta_K = Symbol('theta_K')\n",
    "\n",
    "phi_R = Symbol('phi_R')\n",
    "phi_L = phi_R + 2 * theta_K\n",
    "\n",
    "# absolute reflectivities of left and right polarized waves\n",
    "r_R = Symbol('r_R')\n",
    "r_L = Symbol('r_L')\n",
    "\n",
    "# right and left circular polarizations\n",
    "right = (1/sqrt(2)) * Matrix([1, - I])\n",
    "left  = (1/sqrt(2)) * Matrix([1,   I])"
   ]
  },
  {
   "cell_type": "markdown",
   "metadata": {},
   "source": [
    "## Verify some expressions"
   ]
  },
  {
   "cell_type": "markdown",
   "metadata": {},
   "source": [
    "Phase shift of EOM in plane at moment $t$:"
   ]
  },
  {
   "cell_type": "code",
   "execution_count": 4,
   "metadata": {
    "collapsed": false
   },
   "outputs": [
    {
     "data": {
      "image/png": "[encoded data removed]",
      "text/latex": [
       "$$\\phi^{0}_{in} + \\phi^{a}_{in} \\sin{\\left (\\omega t \\right )}$$"
      ],
      "text/plain": [
       "φ_in__0 + φ_in__a⋅sin(ω⋅t)"
      ]
     },
     "execution_count": 4,
     "metadata": {},
     "output_type": "execute_result"
    }
   ],
   "source": [
    "phi_in_t"
   ]
  },
  {
   "cell_type": "markdown",
   "metadata": {},
   "source": [
    "Phase shift of EOM out of plane at moment $t$:"
   ]
  },
  {
   "cell_type": "code",
   "execution_count": 5,
   "metadata": {
    "collapsed": false
   },
   "outputs": [
    {
     "data": {
      "image/png": "[encoded data removed]",
      "text/latex": [
       "$$\\phi^{0}_{out} + \\phi^{a}_{out} \\sin{\\left (\\omega t \\right )}$$"
      ],
      "text/plain": [
       "φ_out__0 + φ_out__a⋅sin(ω⋅t)"
      ]
     },
     "execution_count": 5,
     "metadata": {},
     "output_type": "execute_result"
    }
   ],
   "source": [
    "phi_out_t"
   ]
  },
  {
   "cell_type": "markdown",
   "metadata": {},
   "source": [
    "Phase shift of EOM in plane at moment $t + \\tau$:"
   ]
  },
  {
   "cell_type": "code",
   "execution_count": 6,
   "metadata": {
    "collapsed": false
   },
   "outputs": [
    {
     "data": {
      "image/png": "[encoded data removed]",
      "text/latex": [
       "$$\\phi^{0}_{in} + \\phi^{a}_{in} \\sin{\\left (\\omega \\left(t + \\tau\\right) \\right )}$$"
      ],
      "text/plain": [
       "φ_in__0 + φ_in__a⋅sin(ω⋅(t + τ))"
      ]
     },
     "execution_count": 6,
     "metadata": {},
     "output_type": "execute_result"
    }
   ],
   "source": [
    "phi_in_tau"
   ]
  },
  {
   "cell_type": "markdown",
   "metadata": {},
   "source": [
    "Phase shift of EOM out of plane at moment $t + \\tau$:"
   ]
  },
  {
   "cell_type": "code",
   "execution_count": 7,
   "metadata": {
    "collapsed": false
   },
   "outputs": [
    {
     "data": {
      "image/png": "[encoded data removed]",
      "text/latex": [
       "$$\\phi^{0}_{out} + \\phi^{a}_{out} \\sin{\\left (\\omega \\left(t + \\tau\\right) \\right )}$$"
      ],
      "text/plain": [
       "φ_out__0 + φ_out__a⋅sin(ω⋅(t + τ))"
      ]
     },
     "execution_count": 7,
     "metadata": {},
     "output_type": "execute_result"
    }
   ],
   "source": [
    "phi_out_tau"
   ]
  },
  {
   "cell_type": "markdown",
   "metadata": {},
   "source": [
    "Matrix of arbitrary linear waveplate:"
   ]
  },
  {
   "cell_type": "code",
   "execution_count": 8,
   "metadata": {
    "collapsed": false
   },
   "outputs": [
    {
     "data": {
      "image/png": "[encoded data removed]",
      "text/latex": [
       "$$\\left[\\begin{matrix}e^{i \\phi_{fast}} \\cos^{2}{\\left (\\theta \\right )} + e^{i \\phi_{slow}} \\sin^{2}{\\left (\\theta \\right )} & \\left(e^{i \\phi_{fast}} - e^{i \\phi_{slow}}\\right) \\sin{\\left (\\theta \\right )} \\cos{\\left (\\theta \\right )}\\\\\\left(e^{i \\phi_{fast}} - e^{i \\phi_{slow}}\\right) \\sin{\\left (\\theta \\right )} \\cos{\\left (\\theta \\right )} & e^{i \\phi_{fast}} \\sin^{2}{\\left (\\theta \\right )} + e^{i \\phi_{slow}} \\cos^{2}{\\left (\\theta \\right )}\\end{matrix}\\right]$$"
      ],
      "text/plain": [
       "⎡ ⅈ⋅φ_fast    2       ⅈ⋅φ_slow    2     ⎛ ⅈ⋅φ_fast    ⅈ⋅φ_slow⎞              ⎤\n",
       "⎢ℯ        ⋅cos (θ) + ℯ        ⋅sin (θ)  ⎝ℯ         - ℯ        ⎠⋅sin(θ)⋅cos(θ)⎥\n",
       "⎢                                                                            ⎥\n",
       "⎢⎛ ⅈ⋅φ_fast    ⅈ⋅φ_slow⎞                 ⅈ⋅φ_fast    2       ⅈ⋅φ_slow    2   ⎥\n",
       "⎣⎝ℯ         - ℯ        ⎠⋅sin(θ)⋅cos(θ)  ℯ        ⋅sin (θ) + ℯ        ⋅cos (θ)⎦"
      ]
     },
     "execution_count": 8,
     "metadata": {},
     "output_type": "execute_result"
    }
   ],
   "source": [
    "M_waveplate"
   ]
  },
  {
   "cell_type": "markdown",
   "metadata": {},
   "source": [
    "Phase retardation of left circularly polarized light upon reflection:"
   ]
  },
  {
   "cell_type": "code",
   "execution_count": 9,
   "metadata": {
    "collapsed": false
   },
   "outputs": [
    {
     "data": {
      "image/png": "[encoded data removed]",
      "text/latex": [
       "$$\\phi_{R} + 2 \\theta_{K}$$"
      ],
      "text/plain": [
       "φ_R + 2⋅θ_K"
      ]
     },
     "execution_count": 9,
     "metadata": {},
     "output_type": "execute_result"
    }
   ],
   "source": [
    "phi_L"
   ]
  },
  {
   "cell_type": "markdown",
   "metadata": {},
   "source": [
    "## Define Jones matrices\n",
    "Incoming light:"
   ]
  },
  {
   "cell_type": "code",
   "execution_count": 10,
   "metadata": {
    "collapsed": false
   },
   "outputs": [
    {
     "data": {
      "image/png": "[encoded data removed]",
      "text/latex": [
       "$$\\left[\\begin{matrix}\\frac{\\sqrt{2}}{2}\\\\\\frac{\\sqrt{2}}{2}\\end{matrix}\\right]$$"
      ],
      "text/plain": [
       "⎡  ___⎤\n",
       "⎢╲╱ 2 ⎥\n",
       "⎢─────⎥\n",
       "⎢  2  ⎥\n",
       "⎢     ⎥\n",
       "⎢  ___⎥\n",
       "⎢╲╱ 2 ⎥\n",
       "⎢─────⎥\n",
       "⎣  2  ⎦"
      ]
     },
     "execution_count": 10,
     "metadata": {},
     "output_type": "execute_result"
    }
   ],
   "source": [
    "E_in = (1/sqrt(2)) * ones(2, 1)\n",
    "E_in"
   ]
  },
  {
   "cell_type": "markdown",
   "metadata": {
    "collapsed": false
   },
   "source": [
    "EOM on the way in:"
   ]
  },
  {
   "cell_type": "code",
   "execution_count": 11,
   "metadata": {
    "collapsed": false
   },
   "outputs": [
    {
     "data": {
      "image/png": "[encoded data removed]",
      "text/latex": [
       "$$\\left[\\begin{matrix}e^{i \\left(\\phi^{0}_{in} + \\phi^{a}_{in} \\sin{\\left (\\omega t \\right )}\\right)} & 0\\\\0 & e^{i \\left(\\phi^{0}_{out} + \\phi^{a}_{out} \\sin{\\left (\\omega t \\right )}\\right)}\\end{matrix}\\right]$$"
      ],
      "text/plain": [
       "⎡ ⅈ⋅(φ_in__0 + φ_in__a⋅sin(ω⋅t))                                   ⎤\n",
       "⎢ℯ                                                0                ⎥\n",
       "⎢                                                                  ⎥\n",
       "⎢                                  ⅈ⋅(φ_out__0 + φ_out__a⋅sin(ω⋅t))⎥\n",
       "⎣               0                 ℯ                                ⎦"
      ]
     },
     "execution_count": 11,
     "metadata": {},
     "output_type": "execute_result"
    }
   ],
   "source": [
    "M_EOM_there = Matrix([[exp(I * phi_in_t), 0], [0, exp(I * phi_out_t)]])\n",
    "M_EOM_there"
   ]
  },
  {
   "cell_type": "markdown",
   "metadata": {},
   "source": [
    "EOM on the way back:"
   ]
  },
  {
   "cell_type": "code",
   "execution_count": 12,
   "metadata": {
    "collapsed": false
   },
   "outputs": [
    {
     "data": {
      "image/png": "[encoded data removed]",
      "text/latex": [
       "$$\\left[\\begin{matrix}e^{i \\left(\\phi^{0}_{in} + \\phi^{a}_{in} \\sin{\\left (\\omega \\left(t + \\tau\\right) \\right )}\\right)} & 0\\\\0 & e^{i \\left(\\phi^{0}_{out} + \\phi^{a}_{out} \\sin{\\left (\\omega \\left(t + \\tau\\right) \\right )}\\right)}\\end{matrix}\\right]$$"
      ],
      "text/plain": [
       "⎡ ⅈ⋅(φ_in__0 + φ_in__a⋅sin(ω⋅(t + τ)))                                        \n",
       "⎢ℯ                                                         0                  \n",
       "⎢                                                                             \n",
       "⎢                                        ⅈ⋅(φ_out__0 + φ_out__a⋅sin(ω⋅(t + τ))\n",
       "⎣                  0                    ℯ                                     \n",
       "\n",
       " ⎤\n",
       " ⎥\n",
       " ⎥\n",
       ")⎥\n",
       " ⎦"
      ]
     },
     "execution_count": 12,
     "metadata": {},
     "output_type": "execute_result"
    }
   ],
   "source": [
    "M_EOM_back = Matrix([[exp(I * phi_in_tau), 0], [0, exp(I * phi_out_tau)]])\n",
    "M_EOM_back"
   ]
  },
  {
   "cell_type": "markdown",
   "metadata": {},
   "source": [
    "Fiber is the same on the way there or back:"
   ]
  },
  {
   "cell_type": "code",
   "execution_count": 13,
   "metadata": {
    "collapsed": false
   },
   "outputs": [
    {
     "data": {
      "image/png": "[encoded data removed]",
      "text/latex": [
       "$$\\left[\\begin{matrix}e^{i \\phi_{1}} & 0\\\\0 & e^{i \\phi_{2}}\\end{matrix}\\right]$$"
      ],
      "text/plain": [
       "⎡ ⅈ⋅φ₁       ⎤\n",
       "⎢ℯ        0  ⎥\n",
       "⎢            ⎥\n",
       "⎢        ⅈ⋅φ₂⎥\n",
       "⎣  0    ℯ    ⎦"
      ]
     },
     "execution_count": 13,
     "metadata": {},
     "output_type": "execute_result"
    }
   ],
   "source": [
    "M_fiber = Matrix([[exp(I * phi_1), 0], [0, exp(I * phi_2)]])\n",
    "M_fiber"
   ]
  },
  {
   "cell_type": "markdown",
   "metadata": {},
   "source": [
    "$\\lambda / 4$ plate on the way in (at $\\pi / 4$ angle):"
   ]
  },
  {
   "cell_type": "code",
   "execution_count": 14,
   "metadata": {
    "collapsed": false
   },
   "outputs": [
    {
     "data": {
      "image/png": "[encoded data removed]",
      "text/latex": [
       "$$\\left[\\begin{matrix}\\frac{1}{2} + \\frac{i}{2} & \\frac{1}{2} - \\frac{i}{2}\\\\\\frac{1}{2} - \\frac{i}{2} & \\frac{1}{2} + \\frac{i}{2}\\end{matrix}\\right]$$"
      ],
      "text/plain": [
       "⎡1   ⅈ  1   ⅈ⎤\n",
       "⎢─ + ─  ─ - ─⎥\n",
       "⎢2   2  2   2⎥\n",
       "⎢            ⎥\n",
       "⎢1   ⅈ  1   ⅈ⎥\n",
       "⎢─ - ─  ─ + ─⎥\n",
       "⎣2   2  2   2⎦"
      ]
     },
     "execution_count": 14,
     "metadata": {},
     "output_type": "execute_result"
    }
   ],
   "source": [
    "M_lambda_there = simplify(M_waveplate.subs([(theta, pi/4), (phi_fast, 0), (phi_slow, pi/2)]))\n",
    "M_lambda_there"
   ]
  },
  {
   "cell_type": "markdown",
   "metadata": {},
   "source": [
    "$\\lambda / 4$ plate on the way in (at $- \\pi / 4$ angle):"
   ]
  },
  {
   "cell_type": "code",
   "execution_count": 15,
   "metadata": {
    "collapsed": false
   },
   "outputs": [
    {
     "data": {
      "image/png": "[encoded data removed]",
      "text/latex": [
       "$$\\left[\\begin{matrix}\\frac{1}{2} + \\frac{i}{2} & - \\frac{1}{2} + \\frac{i}{2}\\\\- \\frac{1}{2} + \\frac{i}{2} & \\frac{1}{2} + \\frac{i}{2}\\end{matrix}\\right]$$"
      ],
      "text/plain": [
       "⎡ 1   ⅈ     1   ⅈ⎤\n",
       "⎢ ─ + ─   - ─ + ─⎥\n",
       "⎢ 2   2     2   2⎥\n",
       "⎢                ⎥\n",
       "⎢  1   ⅈ   1   ⅈ ⎥\n",
       "⎢- ─ + ─   ─ + ─ ⎥\n",
       "⎣  2   2   2   2 ⎦"
      ]
     },
     "execution_count": 15,
     "metadata": {},
     "output_type": "execute_result"
    }
   ],
   "source": [
    "M_lambda_back = simplify(M_waveplate.subs([(theta, - pi/4), (phi_fast, 0), (phi_slow, pi/2)]))\n",
    "M_lambda_back"
   ]
  },
  {
   "cell_type": "markdown",
   "metadata": {},
   "source": [
    "Reflecting sample with circular eigen polarizations:"
   ]
  },
  {
   "cell_type": "code",
   "execution_count": 16,
   "metadata": {
    "collapsed": false
   },
   "outputs": [
    {
     "data": {
      "image/png": "[encoded data removed]",
      "text/latex": [
       "$$\\left[\\begin{matrix}0.5 r_{L} e^{i \\left(\\phi_{R} + 2 \\theta_{K}\\right)} + 0.5 r_{R} e^{i \\phi_{R}} & 0.5 i \\left(- r_{L} e^{i \\left(\\phi_{R} + 2 \\theta_{K}\\right)} + r_{R} e^{i \\phi_{R}}\\right)\\\\0.5 i \\left(r_{L} e^{i \\left(\\phi_{R} + 2 \\theta_{K}\\right)} - r_{R} e^{i \\phi_{R}}\\right) & 0.5 r_{L} e^{i \\left(\\phi_{R} + 2 \\theta_{K}\\right)} + 0.5 r_{R} e^{i \\phi_{R}}\\end{matrix}\\right]$$"
      ],
      "text/plain": [
       "⎡         ⅈ⋅(φ_R + 2⋅θ_K)            ⅈ⋅φ_R        ⎛       ⅈ⋅(φ_R + 2⋅θ_K)     \n",
       "⎢0.5⋅r_L⋅ℯ                + 0.5⋅r_R⋅ℯ       0.5⋅ⅈ⋅⎝- r_L⋅ℯ                + r_\n",
       "⎢                                                                             \n",
       "⎢      ⎛     ⅈ⋅(φ_R + 2⋅θ_K)        ⅈ⋅φ_R⎞            ⅈ⋅(φ_R + 2⋅θ_K)         \n",
       "⎣0.5⋅ⅈ⋅⎝r_L⋅ℯ                - r_R⋅ℯ     ⎠   0.5⋅r_L⋅ℯ                + 0.5⋅r_\n",
       "\n",
       "   ⅈ⋅φ_R⎞⎤\n",
       "R⋅ℯ     ⎠⎥\n",
       "         ⎥\n",
       "   ⅈ⋅φ_R ⎥\n",
       "R⋅ℯ      ⎦"
      ]
     },
     "execution_count": 16,
     "metadata": {},
     "output_type": "execute_result"
    }
   ],
   "source": [
    "M_sample = (1/2) * Matrix([[r_R * exp(I * phi_R) + r_L * exp(I * phi_L),\n",
    "                            I * (  r_R * exp(I * phi_R) - r_L * exp(I * phi_L))],\n",
    "                           [I * (- r_R * exp(I * phi_R) + r_L * exp(I * phi_L)),\n",
    "                            r_R * exp(I * phi_R) + r_L * exp(I * phi_L)]])\n",
    "M_sample"
   ]
  },
  {
   "cell_type": "markdown",
   "metadata": {},
   "source": [
    "Verify right and left polarizations are eigenvectors with eigenvalues $r_R e^{i \\phi_R}$ and $r_L e^{i \\phi_L}$ respectively:"
   ]
  },
  {
   "cell_type": "code",
   "execution_count": 17,
   "metadata": {
    "collapsed": false
   },
   "outputs": [
    {
     "data": {
      "text/plain": [
       "True"
      ]
     },
     "execution_count": 17,
     "metadata": {},
     "output_type": "execute_result"
    }
   ],
   "source": [
    "simplify(M_sample * right) == r_R * exp(I * phi_R) * right"
   ]
  },
  {
   "cell_type": "code",
   "execution_count": 18,
   "metadata": {
    "collapsed": false
   },
   "outputs": [
    {
     "data": {
      "text/plain": [
       "True"
      ]
     },
     "execution_count": 18,
     "metadata": {},
     "output_type": "execute_result"
    }
   ],
   "source": [
    "simplify(M_sample * left)  == r_L * exp(I * phi_L) * left"
   ]
  },
  {
   "cell_type": "markdown",
   "metadata": {},
   "source": [
    "Flip of coordinates upon reflection - don't actually need that, I think."
   ]
  },
  {
   "cell_type": "markdown",
   "metadata": {},
   "source": [
    "## Light passing through each element\n",
    "Initial polarization:"
   ]
  },
  {
   "cell_type": "code",
   "execution_count": 44,
   "metadata": {
    "collapsed": false
   },
   "outputs": [
    {
     "data": {
      "image/png": "[encoded data removed]",
      "text/latex": [
       "$$\\left[\\begin{matrix}\\frac{\\sqrt{2}}{2}\\\\\\frac{\\sqrt{2}}{2}\\end{matrix}\\right]$$"
      ],
      "text/plain": [
       "⎡  ___⎤\n",
       "⎢╲╱ 2 ⎥\n",
       "⎢─────⎥\n",
       "⎢  2  ⎥\n",
       "⎢     ⎥\n",
       "⎢  ___⎥\n",
       "⎢╲╱ 2 ⎥\n",
       "⎢─────⎥\n",
       "⎣  2  ⎦"
      ]
     },
     "execution_count": 44,
     "metadata": {},
     "output_type": "execute_result"
    }
   ],
   "source": [
    "E = E_in\n",
    "simplify(E)"
   ]
  },
  {
   "cell_type": "markdown",
   "metadata": {},
   "source": [
    "After Electro-Optic Modulator:"
   ]
  },
  {
   "cell_type": "code",
   "execution_count": 45,
   "metadata": {
    "collapsed": false
   },
   "outputs": [
    {
     "data": {
      "image/png": "[encoded data removed]",
      "text/latex": [
       "$$\\left[\\begin{matrix}\\frac{\\sqrt{2}}{2} e^{i \\left(\\phi^{0}_{in} + \\phi^{a}_{in} \\sin{\\left (\\omega t \\right )}\\right)}\\\\\\frac{\\sqrt{2}}{2} e^{i \\left(\\phi^{0}_{out} + \\phi^{a}_{out} \\sin{\\left (\\omega t \\right )}\\right)}\\end{matrix}\\right]$$"
      ],
      "text/plain": [
       "⎡   ___  ⅈ⋅(φ_in__0 + φ_in__a⋅sin(ω⋅t)) ⎤\n",
       "⎢ ╲╱ 2 ⋅ℯ                               ⎥\n",
       "⎢ ───────────────────────────────────── ⎥\n",
       "⎢                   2                   ⎥\n",
       "⎢                                       ⎥\n",
       "⎢  ___  ⅈ⋅(φ_out__0 + φ_out__a⋅sin(ω⋅t))⎥\n",
       "⎢╲╱ 2 ⋅ℯ                                ⎥\n",
       "⎢───────────────────────────────────────⎥\n",
       "⎣                   2                   ⎦"
      ]
     },
     "execution_count": 45,
     "metadata": {},
     "output_type": "execute_result"
    }
   ],
   "source": [
    "E = M_EOM_there * E\n",
    "simplify(E)"
   ]
  },
  {
   "cell_type": "markdown",
   "metadata": {},
   "source": [
    "After fiber:"
   ]
  },
  {
   "cell_type": "code",
   "execution_count": 46,
   "metadata": {
    "collapsed": false
   },
   "outputs": [
    {
     "data": {
      "image/png": "[encoded data removed]",
      "text/latex": [
       "$$\\left[\\begin{matrix}\\frac{\\sqrt{2}}{2} e^{i \\left(\\phi_{1} + \\phi^{0}_{in} + \\phi^{a}_{in} \\sin{\\left (\\omega t \\right )}\\right)}\\\\\\frac{\\sqrt{2}}{2} e^{i \\left(\\phi_{2} + \\phi^{0}_{out} + \\phi^{a}_{out} \\sin{\\left (\\omega t \\right )}\\right)}\\end{matrix}\\right]$$"
      ],
      "text/plain": [
       "⎡   ___  ⅈ⋅(φ₁ + φ_in__0 + φ_in__a⋅sin(ω⋅t)) ⎤\n",
       "⎢ ╲╱ 2 ⋅ℯ                                    ⎥\n",
       "⎢ ────────────────────────────────────────── ⎥\n",
       "⎢                     2                      ⎥\n",
       "⎢                                            ⎥\n",
       "⎢  ___  ⅈ⋅(φ₂ + φ_out__0 + φ_out__a⋅sin(ω⋅t))⎥\n",
       "⎢╲╱ 2 ⋅ℯ                                     ⎥\n",
       "⎢────────────────────────────────────────────⎥\n",
       "⎣                     2                      ⎦"
      ]
     },
     "execution_count": 46,
     "metadata": {},
     "output_type": "execute_result"
    }
   ],
   "source": [
    "E = M_fiber * E\n",
    "simplify(E)"
   ]
  },
  {
   "cell_type": "markdown",
   "metadata": {},
   "source": [
    "After $\\lambda / 4$ plate:"
   ]
  },
  {
   "cell_type": "code",
   "execution_count": 47,
   "metadata": {
    "collapsed": false
   },
   "outputs": [
    {
     "data": {
      "image/png": "[encoded data removed]",
      "text/latex": [
       "$$\\left[\\begin{matrix}\\frac{\\sqrt{2}}{4} \\left(\\left(1 + i\\right) e^{i \\left(\\phi_{1} + \\phi^{0}_{in} + \\phi^{a}_{in} \\sin{\\left (\\omega t \\right )}\\right)} + \\left(1 - i\\right) e^{i \\left(\\phi_{2} + \\phi^{0}_{out} + \\phi^{a}_{out} \\sin{\\left (\\omega t \\right )}\\right)}\\right)\\\\\\frac{\\sqrt{2}}{4} \\left(\\left(1 - i\\right) e^{i \\left(\\phi_{1} + \\phi^{0}_{in} + \\phi^{a}_{in} \\sin{\\left (\\omega t \\right )}\\right)} + \\left(1 + i\\right) e^{i \\left(\\phi_{2} + \\phi^{0}_{out} + \\phi^{a}_{out} \\sin{\\left (\\omega t \\right )}\\right)}\\right)\\end{matrix}\\right]$$"
      ],
      "text/plain": [
       "⎡  ___ ⎛         ⅈ⋅(φ₁ + φ_in__0 + φ_in__a⋅sin(ω⋅t))            ⅈ⋅(φ₂ + φ_out_\n",
       "⎢╲╱ 2 ⋅⎝(1 + ⅈ)⋅ℯ                                    + (1 - ⅈ)⋅ℯ              \n",
       "⎢─────────────────────────────────────────────────────────────────────────────\n",
       "⎢                                                  4                          \n",
       "⎢                                                                             \n",
       "⎢  ___ ⎛         ⅈ⋅(φ₁ + φ_in__0 + φ_in__a⋅sin(ω⋅t))            ⅈ⋅(φ₂ + φ_out_\n",
       "⎢╲╱ 2 ⋅⎝(1 - ⅈ)⋅ℯ                                    + (1 + ⅈ)⋅ℯ              \n",
       "⎢─────────────────────────────────────────────────────────────────────────────\n",
       "⎣                                                  4                          \n",
       "\n",
       "_0 + φ_out__a⋅sin(ω⋅t))⎞⎤\n",
       "                       ⎠⎥\n",
       "────────────────────────⎥\n",
       "                        ⎥\n",
       "                        ⎥\n",
       "_0 + φ_out__a⋅sin(ω⋅t))⎞⎥\n",
       "                       ⎠⎥\n",
       "────────────────────────⎥\n",
       "                        ⎦"
      ]
     },
     "execution_count": 47,
     "metadata": {},
     "output_type": "execute_result"
    }
   ],
   "source": [
    "E = M_lambda_there * E\n",
    "simplify(E)"
   ]
  },
  {
   "cell_type": "markdown",
   "metadata": {},
   "source": [
    "After reflection from the sample (ugly!):"
   ]
  },
  {
   "cell_type": "code",
   "execution_count": 48,
   "metadata": {
    "collapsed": false
   },
   "outputs": [
    {
     "data": {
      "image/png": "[encoded data removed]",
      "text/latex": [
       "$$\\left[\\begin{matrix}\\sqrt{2} \\left(- 0.125 i \\left(r_{L} e^{i \\left(\\phi_{R} + 2 \\theta_{K}\\right)} - r_{R} e^{i \\phi_{R}}\\right) \\left(\\left(1 - i\\right) e^{i \\left(\\phi_{1} + \\phi^{0}_{in} + \\phi^{a}_{in} \\sin{\\left (\\omega t \\right )}\\right)} + \\left(1 + i\\right) e^{i \\left(\\phi_{2} + \\phi^{0}_{out} + \\phi^{a}_{out} \\sin{\\left (\\omega t \\right )}\\right)}\\right) + 0.125 \\left(r_{L} e^{i \\left(\\phi_{R} + 2 \\theta_{K}\\right)} + r_{R} e^{i \\phi_{R}}\\right) \\left(\\left(1 + i\\right) e^{i \\left(\\phi_{1} + \\phi^{0}_{in} + \\phi^{a}_{in} \\sin{\\left (\\omega t \\right )}\\right)} + \\left(1 - i\\right) e^{i \\left(\\phi_{2} + \\phi^{0}_{out} + \\phi^{a}_{out} \\sin{\\left (\\omega t \\right )}\\right)}\\right)\\right)\\\\0.125 \\sqrt{2} \\left(i \\left(r_{L} e^{i \\left(\\phi_{R} + 2 \\theta_{K}\\right)} - r_{R} e^{i \\phi_{R}}\\right) \\left(\\left(1 + i\\right) e^{i \\left(\\phi_{1} + \\phi^{0}_{in} + \\phi^{a}_{in} \\sin{\\left (\\omega t \\right )}\\right)} + \\left(1 - i\\right) e^{i \\left(\\phi_{2} + \\phi^{0}_{out} + \\phi^{a}_{out} \\sin{\\left (\\omega t \\right )}\\right)}\\right) + \\left(r_{L} e^{i \\left(\\phi_{R} + 2 \\theta_{K}\\right)} + r_{R} e^{i \\phi_{R}}\\right) \\left(\\left(1 - i\\right) e^{i \\left(\\phi_{1} + \\phi^{0}_{in} + \\phi^{a}_{in} \\sin{\\left (\\omega t \\right )}\\right)} + \\left(1 + i\\right) e^{i \\left(\\phi_{2} + \\phi^{0}_{out} + \\phi^{a}_{out} \\sin{\\left (\\omega t \\right )}\\right)}\\right)\\right)\\end{matrix}\\right]$$"
      ],
      "text/plain": [
       "⎡  ___ ⎛             ⎛     ⅈ⋅(φ_R + 2⋅θ_K)        ⅈ⋅φ_R⎞ ⎛         ⅈ⋅(φ₁ + φ_i\n",
       "⎢╲╱ 2 ⋅⎝- - -0.125⋅ⅈ⋅⎝r_L⋅ℯ                - r_R⋅ℯ     ⎠⋅⎝(1 - ⅈ)⋅ℯ           \n",
       "⎢                                                                             \n",
       "⎢             ___ ⎛  ⎛     ⅈ⋅(φ_R + 2⋅θ_K)        ⅈ⋅φ_R⎞ ⎛         ⅈ⋅(φ₁ + φ_i\n",
       "⎣     0.125⋅╲╱ 2 ⋅⎝ⅈ⋅⎝r_L⋅ℯ                - r_R⋅ℯ     ⎠⋅⎝(1 + ⅈ)⋅ℯ           \n",
       "\n",
       "n__0 + φ_in__a⋅sin(ω⋅t))            ⅈ⋅(φ₂ + φ_out__0 + φ_out__a⋅sin(ω⋅t))⎞    \n",
       "                         + (1 + ⅈ)⋅ℯ                                     ⎠ + 0\n",
       "                                                                              \n",
       "n__0 + φ_in__a⋅sin(ω⋅t))            ⅈ⋅(φ₂ + φ_out__0 + φ_out__a⋅sin(ω⋅t))⎞   ⎛\n",
       "                         + (1 - ⅈ)⋅ℯ                                     ⎠ + ⎝\n",
       "\n",
       "     ⎛     ⅈ⋅(φ_R + 2⋅θ_K)        ⅈ⋅φ_R⎞ ⎛         ⅈ⋅(φ₁ + φ_in__0 + φ_in__a⋅s\n",
       ".125⋅⎝r_L⋅ℯ                + r_R⋅ℯ     ⎠⋅⎝(1 + ⅈ)⋅ℯ                           \n",
       "                                                                              \n",
       "     ⅈ⋅(φ_R + 2⋅θ_K)        ⅈ⋅φ_R⎞ ⎛         ⅈ⋅(φ₁ + φ_in__0 + φ_in__a⋅sin(ω⋅t\n",
       "r_L⋅ℯ                + r_R⋅ℯ     ⎠⋅⎝(1 - ⅈ)⋅ℯ                                 \n",
       "\n",
       "in(ω⋅t))            ⅈ⋅(φ₂ + φ_out__0 + φ_out__a⋅sin(ω⋅t))⎞⎞⎤\n",
       "         + (1 - ⅈ)⋅ℯ                                     ⎠⎠⎥\n",
       "                                                           ⎥\n",
       "))            ⅈ⋅(φ₂ + φ_out__0 + φ_out__a⋅sin(ω⋅t))⎞⎞      ⎥\n",
       "   + (1 + ⅈ)⋅ℯ                                     ⎠⎠      ⎦"
      ]
     },
     "execution_count": 48,
     "metadata": {},
     "output_type": "execute_result"
    }
   ],
   "source": [
    "E = M_sample * E\n",
    "simplify(E)"
   ]
  },
  {
   "cell_type": "markdown",
   "metadata": {},
   "source": [
    "After $\\lambda / 4$ plate on the way back:"
   ]
  },
  {
   "cell_type": "code",
   "execution_count": 49,
   "metadata": {
    "collapsed": false
   },
   "outputs": [
    {
     "data": {
      "image/png": "[encoded data removed]",
      "text/latex": [
       "$$\\left[\\begin{matrix}0.5 \\sqrt{2} i r_{R} e^{i \\left(\\phi_{1} + \\phi_{R} + \\phi^{0}_{in} + \\phi^{a}_{in} \\sin{\\left (\\omega t \\right )}\\right)}\\\\0.5 \\sqrt{2} i r_{L} e^{i \\left(\\phi_{2} + \\phi_{R} + \\phi^{0}_{out} + \\phi^{a}_{out} \\sin{\\left (\\omega t \\right )} + 2 \\theta_{K}\\right)}\\end{matrix}\\right]$$"
      ],
      "text/plain": [
       "⎡           ___        ⅈ⋅(φ₁ + φ_R + φ_in__0 + φ_in__a⋅sin(ω⋅t))     ⎤\n",
       "⎢     0.5⋅╲╱ 2 ⋅ⅈ⋅r_R⋅ℯ                                              ⎥\n",
       "⎢                                                                    ⎥\n",
       "⎢      ___        ⅈ⋅(φ₂ + φ_R + φ_out__0 + φ_out__a⋅sin(ω⋅t) + 2⋅θ_K)⎥\n",
       "⎣0.5⋅╲╱ 2 ⋅ⅈ⋅r_L⋅ℯ                                                   ⎦"
      ]
     },
     "execution_count": 49,
     "metadata": {},
     "output_type": "execute_result"
    }
   ],
   "source": [
    "E = M_lambda_back * E\n",
    "simplify(E)"
   ]
  },
  {
   "cell_type": "markdown",
   "metadata": {},
   "source": [
    "After fiber on the way back:"
   ]
  },
  {
   "cell_type": "code",
   "execution_count": 50,
   "metadata": {
    "collapsed": false
   },
   "outputs": [
    {
     "data": {
      "image/png": "[encoded data removed]",
      "text/latex": [
       "$$\\left[\\begin{matrix}0.5 \\sqrt{2} i r_{R} e^{i \\left(2 \\phi_{1} + \\phi_{R} + \\phi^{0}_{in} + \\phi^{a}_{in} \\sin{\\left (\\omega t \\right )}\\right)}\\\\0.5 \\sqrt{2} i r_{L} e^{i \\left(2 \\phi_{2} + \\phi_{R} + \\phi^{0}_{out} + \\phi^{a}_{out} \\sin{\\left (\\omega t \\right )} + 2 \\theta_{K}\\right)}\\end{matrix}\\right]$$"
      ],
      "text/plain": [
       "⎡           ___        ⅈ⋅(2⋅φ₁ + φ_R + φ_in__0 + φ_in__a⋅sin(ω⋅t))     ⎤\n",
       "⎢     0.5⋅╲╱ 2 ⋅ⅈ⋅r_R⋅ℯ                                                ⎥\n",
       "⎢                                                                      ⎥\n",
       "⎢      ___        ⅈ⋅(2⋅φ₂ + φ_R + φ_out__0 + φ_out__a⋅sin(ω⋅t) + 2⋅θ_K)⎥\n",
       "⎣0.5⋅╲╱ 2 ⋅ⅈ⋅r_L⋅ℯ                                                     ⎦"
      ]
     },
     "execution_count": 50,
     "metadata": {},
     "output_type": "execute_result"
    }
   ],
   "source": [
    "E = M_fiber * E\n",
    "simplify(E)"
   ]
  },
  {
   "cell_type": "markdown",
   "metadata": {},
   "source": [
    "After EOM on the way back:"
   ]
  },
  {
   "cell_type": "code",
   "execution_count": 51,
   "metadata": {
    "collapsed": false
   },
   "outputs": [
    {
     "data": {
      "image/png": "[encoded data removed]",
      "text/latex": [
       "$$\\left[\\begin{matrix}0.5 \\sqrt{2} i r_{R} e^{i \\left(2 \\phi_{1} + \\phi_{R} + 2 \\phi^{0}_{in} + \\phi^{a}_{in} \\sin{\\left (\\omega t \\right )} + \\phi^{a}_{in} \\sin{\\left (\\omega \\left(t + \\tau\\right) \\right )}\\right)}\\\\0.5 \\sqrt{2} i r_{L} e^{i \\left(2 \\phi_{2} + \\phi_{R} + 2 \\phi^{0}_{out} + \\phi^{a}_{out} \\sin{\\left (\\omega t \\right )} + \\phi^{a}_{out} \\sin{\\left (\\omega \\left(t + \\tau\\right) \\right )} + 2 \\theta_{K}\\right)}\\end{matrix}\\right]$$"
      ],
      "text/plain": [
       "⎡           ___        ⅈ⋅(2⋅φ₁ + φ_R + 2⋅φ_in__0 + φ_in__a⋅sin(ω⋅t) + φ_in__a⋅\n",
       "⎢     0.5⋅╲╱ 2 ⋅ⅈ⋅r_R⋅ℯ                                                       \n",
       "⎢                                                                             \n",
       "⎢      ___        ⅈ⋅(2⋅φ₂ + φ_R + 2⋅φ_out__0 + φ_out__a⋅sin(ω⋅t) + φ_out__a⋅si\n",
       "⎣0.5⋅╲╱ 2 ⋅ⅈ⋅r_L⋅ℯ                                                            \n",
       "\n",
       "sin(ω⋅(t + τ)))      ⎤\n",
       "                     ⎥\n",
       "                     ⎥\n",
       "n(ω⋅(t + τ)) + 2⋅θ_K)⎥\n",
       "                     ⎦"
      ]
     },
     "execution_count": 51,
     "metadata": {},
     "output_type": "execute_result"
    }
   ],
   "source": [
    "E = M_EOM_back * E\n",
    "simplify(E)"
   ]
  },
  {
   "cell_type": "code",
   "execution_count": null,
   "metadata": {
    "collapsed": true
   },
   "outputs": [],
   "source": []
  },
  {
   "cell_type": "code",
   "execution_count": 54,
   "metadata": {
    "collapsed": false
   },
   "outputs": [
    {
     "data": {
      "image/png": "[encoded data removed]",
      "text/latex": [
       "$$\\left[\\begin{matrix}0.5 \\sqrt{2} i r_{R} e^{i \\left(2 \\phi_{1} + \\phi_{R} + 2 \\phi^{0}_{in}\\right)}\\\\0.5 \\sqrt{2} i r_{L} e^{i \\left(2 \\phi_{2} + \\phi_{R} + 2 \\phi^{0}_{out} + 2 \\theta_{K}\\right)}\\end{matrix}\\right]$$"
      ],
      "text/plain": [
       "⎡          ___        ⅈ⋅(2⋅φ₁ + φ_R + 2⋅φ_in__0)     ⎤\n",
       "⎢    0.5⋅╲╱ 2 ⋅ⅈ⋅r_R⋅ℯ                               ⎥\n",
       "⎢                                                    ⎥\n",
       "⎢      ___        ⅈ⋅(2⋅φ₂ + φ_R + 2⋅φ_out__0 + 2⋅θ_K)⎥\n",
       "⎣0.5⋅╲╱ 2 ⋅ⅈ⋅r_L⋅ℯ                                   ⎦"
      ]
     },
     "execution_count": 54,
     "metadata": {},
     "output_type": "execute_result"
    }
   ],
   "source": [
    "E_tau = E.subs(tau, pi/omega)\n",
    "simplify(E_tau)"
   ]
  },
  {
   "cell_type": "code",
   "execution_count": null,
   "metadata": {
    "collapsed": true
   },
   "outputs": [],
   "source": []
  }
 ],
 "metadata": {
  "kernelspec": {
   "display_name": "Python 2",
   "language": "python",
   "name": "python2"
  },
  "language_info": {
   "codemirror_mode": {
    "name": "ipython",
    "version": 2
   },
   "file_extension": ".py",
   "mimetype": "text/x-python",
   "name": "python",
   "nbconvert_exporter": "python",
   "pygments_lexer": "ipython2",
   "version": "2.7.6"
  }
 },
 "nbformat": 4,
 "nbformat_minor": 0
}
