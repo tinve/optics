{
 "cells": [
  {
   "cell_type": "code",
   "execution_count": 1,
   "metadata": {
    "collapsed": false
   },
   "outputs": [],
   "source": [
    "from __future__ import division\n",
    "\n",
    "from cmath import *\n",
    "from math import radians\n",
    "from numpy import arange\n",
    "\n",
    "import matplotlib.pyplot as plt\n",
    "%matplotlib inline"
   ]
  },
  {
   "cell_type": "markdown",
   "metadata": {},
   "source": [
    "### Constants"
   ]
  },
  {
   "cell_type": "code",
   "execution_count": 2,
   "metadata": {
    "collapsed": false
   },
   "outputs": [],
   "source": [
    "# refraction indices\n",
    "n1 = 1.519   # glass\n",
    "n2 = 1.425   # protein\n",
    "n3 = 1.332   # buffer\n",
    "\n",
    "# wavelength (in nm)\n",
    "l = 633"
   ]
  },
  {
   "cell_type": "markdown",
   "metadata": {},
   "source": [
    "### Auxiliary functions"
   ]
  },
  {
   "cell_type": "code",
   "execution_count": 3,
   "metadata": {
    "collapsed": true
   },
   "outputs": [],
   "source": [
    "# refraction angle\n",
    "def theta_func(na, nb, thetaa):\n",
    "    return asin( na * sin(thetaa) / nb )\n",
    "\n",
    "# p-reflectivity\n",
    "def rp_func(na, nb, thetaa):\n",
    "    thetab = theta_func(na, nb, thetaa)\n",
    "    rpab = (nb*cos(thetaa) - na*cos(thetab)) / (nb*cos(thetaa) + na*cos(thetab))\n",
    "    return rpab\n",
    "\n",
    "# s-reflectivity\n",
    "def rs_func(na, nb, thetaa):\n",
    "    thetab = theta_func(na, nb, thetaa)\n",
    "    rsab = (na*cos(thetaa) - nb*cos(thetab)) / (na*cos(thetaa) + nb*cos(thetab))\n",
    "    return rsab\n",
    "\n",
    "# reflectivity of the film\n",
    "def r_func(r12, r23, gamma):\n",
    "    return (r12 + r23*exp(2j*gamma))/(1 + r12*r23*exp(2j*gamma))\n",
    "\n",
    "# first order delta\n",
    "def delta1_func(r12, r23, r13, gamma):\n",
    "    return 2j*r23 * (1 - r12*r13) * gamma / (r12 + r23)\n",
    "\n",
    "# second order delta\n",
    "def delta2_func(r12, r23, r13, gamma):\n",
    "    return - 2*r23*r13 * (1 - r12*r13) * (1 - r12*r23) * gamma**2 / (r12 + r23)**2"
   ]
  },
  {
   "cell_type": "markdown",
   "metadata": {},
   "source": [
    "### Deltas"
   ]
  },
  {
   "cell_type": "code",
   "execution_count": 4,
   "metadata": {
    "collapsed": false
   },
   "outputs": [],
   "source": [
    "def deltas(d, theta):\n",
    "\n",
    "    # incidence angles (in radians)\n",
    "    theta1 = radians(theta)\n",
    "    theta2 = theta_func(n1, n2, theta1)\n",
    "    theta3 = theta_func(n1, n3, theta1)\n",
    "\n",
    "    # gamma\n",
    "    gamma = 2 * pi * n2 *cos(theta2) * d / l\n",
    "    \n",
    "    # p-reflectivities\n",
    "    rp12 = rp_func(n1, n2, theta1)\n",
    "    rp23 = rp_func(n2, n3, theta2)\n",
    "    rp13 = rp_func(n1, n3, theta1)\n",
    "    \n",
    "    # s-reflectivities\n",
    "    rs12 = rs_func(n1, n2, theta1)\n",
    "    rs23 = rs_func(n2, n3, theta2)\n",
    "    rs13 = rs_func(n1, n3, theta1)\n",
    "    \n",
    "    # reference reflectivities\n",
    "    rp0 = rp13\n",
    "    rs0 = rs13\n",
    "\n",
    "    # total reflectivities\n",
    "    rp = r_func(rp12, rp23, gamma)\n",
    "    rs = r_func(rs12, rs23, gamma)\n",
    "    \n",
    "    # full answer\n",
    "    deltap = (rp - rp0) / rp0\n",
    "    deltas = (rs - rs0) / rs0\n",
    "    delta = deltap - deltas\n",
    "\n",
    "    # first order term\n",
    "    deltap1 = delta1_func(rp12, rp23, rp13, gamma)\n",
    "    deltas1 = delta1_func(rs12, rs23, rs13, gamma)\n",
    "    delta1 = deltap1 - deltas1\n",
    "\n",
    "    # second order term\n",
    "    deltap2 = delta2_func(rp12, rp23, rp13, gamma)\n",
    "    deltas2 = delta2_func(rs12, rs23, rs13, gamma)\n",
    "    delta2 = deltap2 - deltas2\n",
    "\n",
    "    return delta, delta1, delta2"
   ]
  },
  {
   "cell_type": "markdown",
   "metadata": {},
   "source": [
    "### Single nulling signals"
   ]
  },
  {
   "cell_type": "code",
   "execution_count": 5,
   "metadata": {
    "collapsed": true
   },
   "outputs": [],
   "source": [
    "def single(d, theta):\n",
    "\n",
    "    # incidence angles (in radians)\n",
    "    theta1 = radians(theta)\n",
    "    theta2 = theta_func(n1, n2, theta1)\n",
    "    theta3 = theta_func(n1, n3, theta1)\n",
    "\n",
    "    # gamma\n",
    "    gamma = 2 * pi * n2 *cos(theta2) * d / l\n",
    "    \n",
    "    # p-reflectivities\n",
    "    rp12 = rp_func(n1, n2, theta1)\n",
    "    rp23 = rp_func(n2, n3, theta2)\n",
    "    rp13 = rp_func(n1, n3, theta1)\n",
    "    \n",
    "    # s-reflectivities\n",
    "    rs12 = rs_func(n1, n2, theta1)\n",
    "    rs23 = rs_func(n2, n3, theta2)\n",
    "    rs13 = rs_func(n1, n3, theta1)\n",
    "    \n",
    "    # reference reflectivities\n",
    "    rp0 = rp13\n",
    "    rs0 = rs13\n",
    "\n",
    "    # total reflectivities\n",
    "    rp = r_func(rp12, rp23, gamma)\n",
    "    rs = r_func(rs12, rs23, gamma)\n",
    "    \n",
    "    # phases\n",
    "    phip0 = phase(rp0)\n",
    "    phis0 = phase(rs0)\n",
    "    phip = phase(rp)\n",
    "    phis = phase(rs)\n",
    "    \n",
    "    # absolute reflectivities\n",
    "    rrp0 = abs(rp0)\n",
    "    rrs0 = abs(rs0)\n",
    "    rrp = abs(rp)\n",
    "    rrs = abs(rs)\n",
    "    \n",
    "    # normalized first and second harmonics\n",
    "    single1H = ( sin((phip - phis) - (phip0 - phis0)) ).real\n",
    "    single2H = ( (rrp**2 - rrs**2)/(rrp0**2 - rrs0**2) - 1 ).real\n",
    "\n",
    "    return single1H, single2H"
   ]
  },
  {
   "cell_type": "markdown",
   "metadata": {},
   "source": [
    "### Double nulling signals"
   ]
  },
  {
   "cell_type": "code",
   "execution_count": 6,
   "metadata": {
    "collapsed": true
   },
   "outputs": [],
   "source": [
    "def double(d, theta):\n",
    "\n",
    "    # incidence angles (in radians)\n",
    "    theta1 = radians(theta)\n",
    "    theta2 = theta_func(n1, n2, theta1)\n",
    "    theta3 = theta_func(n1, n3, theta1)\n",
    "\n",
    "    # gamma\n",
    "    gamma = 2 * pi * n2 *cos(theta2) * d / l\n",
    "    \n",
    "    # p-reflectivities\n",
    "    rp12 = rp_func(n1, n2, theta1)\n",
    "    rp23 = rp_func(n2, n3, theta2)\n",
    "    rp13 = rp_func(n1, n3, theta1)\n",
    "    \n",
    "    # s-reflectivities\n",
    "    rs12 = rs_func(n1, n2, theta1)\n",
    "    rs23 = rs_func(n2, n3, theta2)\n",
    "    rs13 = rs_func(n1, n3, theta1)\n",
    "    \n",
    "    # reference reflectivities\n",
    "    rp0 = rp13\n",
    "    rs0 = rs13\n",
    "\n",
    "    # total reflectivities\n",
    "    rp = r_func(rp12, rp23, gamma)\n",
    "    rs = r_func(rs12, rs23, gamma)\n",
    "    \n",
    "    # phases\n",
    "    phip0 = phase(rp0)\n",
    "    phis0 = phase(rs0)\n",
    "    phip = phase(rp)\n",
    "    phis = phase(rs)\n",
    "    \n",
    "    # absolute reflectivities\n",
    "    rrp0 = abs(rp0)\n",
    "    rrs0 = abs(rs0)\n",
    "    rrp = abs(rp)\n",
    "    rrs = abs(rs)\n",
    "    \n",
    "    # normalized first and second harmonics\n",
    "    double1H = ( sin((phip - phis) - (phip0 - phis0)) ).real\n",
    "    double2H = 0.5 * ( rrp**2 / rrp0**2 - rrs**2 / rrs0**2 ).real\n",
    "\n",
    "    return double1H, double2H"
   ]
  },
  {
   "cell_type": "markdown",
   "metadata": {},
   "source": [
    "### Calculation"
   ]
  },
  {
   "cell_type": "code",
   "execution_count": 7,
   "metadata": {
    "collapsed": true
   },
   "outputs": [],
   "source": [
    "# angle of incidence (in degrees)\n",
    "theta = 36\n",
    "\n",
    "# film thickness (in nm)\n",
    "d = 4"
   ]
  },
  {
   "cell_type": "code",
   "execution_count": 8,
   "metadata": {
    "collapsed": false
   },
   "outputs": [
    {
     "name": "stdout",
     "output_type": "stream",
     "text": [
      "Full relative reflectivity difference is: \t0.000463 - 0.010756i \n",
      "\n",
      "First order term is: \t\t\t\t0.000000 - 0.010769i \n",
      "\n",
      "Residual is: \t\t\t\t\t0.000463 + 0.000013i\n"
     ]
    }
   ],
   "source": [
    "delta, delta1, delta2 = deltas(d, theta)\n",
    "residual1 = delta - delta1\n",
    "\n",
    "print 'Full relative reflectivity difference is: \\t', \\\n",
    "      '{0:.6f} {1} {2:.6f}i'.format(delta.real, '+-'[delta.imag < 0], abs(delta.imag)), '\\n'\n",
    "\n",
    "# delta1.real+0 is a dirty hack to avoid printing -0.000000\n",
    "print 'First order term is: \\t\\t\\t\\t', \\\n",
    "      '{0:.6f} {1} {2:.6f}i'.format(delta1.real+0, '+-'[delta1.imag < 0], abs(delta1.imag)), '\\n'\n",
    "\n",
    "print 'Residual is: \\t\\t\\t\\t\\t', \\\n",
    "      '{0:.6f} {1} {2:.6f}i'.format(residual1.real, '+-'[residual1.imag < 0], abs(residual1.imag))"
   ]
  },
  {
   "cell_type": "code",
   "execution_count": 9,
   "metadata": {
    "collapsed": false
   },
   "outputs": [
    {
     "name": "stdout",
     "output_type": "stream",
     "text": [
      "Normalized first harmonic signal in single nulling mode is: \t-0.010776 \n",
      "\n",
      "Normalized second harmonic signal in single nulling mode is: \t-0.001912 \n",
      "\n"
     ]
    }
   ],
   "source": [
    "\n",
    "single1H, single2H = single(d, theta)\n",
    "\n",
    "print 'Normalized first harmonic signal in single nulling mode is: \\t', '{0:.6f}'.format(single1H), '\\n'\n",
    "print 'Normalized second harmonic signal in single nulling mode is: \\t', '{0:.6f}'.format(single2H), '\\n'"
   ]
  },
  {
   "cell_type": "code",
   "execution_count": 10,
   "metadata": {
    "collapsed": false
   },
   "outputs": [
    {
     "name": "stdout",
     "output_type": "stream",
     "text": [
      "Normalized first harmonic signal in double nulling mode is: \t-0.010776 \n",
      "\n",
      "Normalized second harmonic signal in double nulling mode is: \t0.000016 \n",
      "\n"
     ]
    }
   ],
   "source": [
    "double1H, double2H = double(d, theta)\n",
    "\n",
    "print 'Normalized first harmonic signal in double nulling mode is: \\t', '{0:.6f}'.format(double1H), '\\n'\n",
    "print 'Normalized second harmonic signal in double nulling mode is: \\t', '{0:.6f}'.format(double2H), '\\n'"
   ]
  },
  {
   "cell_type": "markdown",
   "metadata": {},
   "source": [
    "## Range of thicknesses\n",
    "### First order approximation"
   ]
  },
  {
   "cell_type": "code",
   "execution_count": 11,
   "metadata": {
    "collapsed": false
   },
   "outputs": [
    {
     "data": {
      "text/plain": [
       "<matplotlib.text.Text at 0x7fd4334e51d0>"
      ]
     },
     "execution_count": 11,
     "metadata": {},
     "output_type": "execute_result"
    },
    {
     "data": {
      "image/png": "[encoded data removed]",
      "text/plain": [
       "<matplotlib.figure.Figure at 0x7fd433664110>"
      ]
     },
     "metadata": {},
     "output_type": "display_data"
    }
   ],
   "source": [
    "dmin = 0\n",
    "dmax = 20\n",
    "dd = 0.1\n",
    "\n",
    "dlist = arange(dmin, dmax, dd)\n",
    "\n",
    "deltaIm = []\n",
    "deltaRe = []\n",
    "delta1Im = []\n",
    "delta1Re = []\n",
    "residualIm = []\n",
    "residualRe = []\n",
    "\n",
    "for d in dlist:\n",
    "    delta, delta1, delta2 = deltas(d, theta)\n",
    "    reresidual1 = delta - delta1\n",
    "    \n",
    "    deltaIm.append(delta.imag)\n",
    "    deltaRe.append(delta.real)\n",
    "    \n",
    "    delta1Im.append(delta1.imag)\n",
    "    delta1Re.append(delta1.real)\n",
    "    \n",
    "    residualIm.append(residual1.imag)\n",
    "    residualRe.append(residual1.real)\n",
    "    \n",
    "plt.plot(dlist, deltaIm, lw = 3, color = 'b', alpha = 0.5, label = 'dIm')\n",
    "plt.plot(dlist, deltaRe, lw = 3, color = 'r', alpha = 0.5, label = 'dR')\n",
    "\n",
    "plt.plot(dlist, delta1Im, lw = 3, color = 'b', ls = '--', label = 'dIm O(d)')\n",
    "plt.plot(dlist, delta1Re, lw = 3, color = 'r', ls = '--', label = 'dR O(d)')\n",
    "\n",
    "plt.axhline(y=0, color='k')\n",
    "plt.grid()\n",
    "plt.xlabel('d [nm]')\n",
    "plt.ylabel('OI-RD signal')\n",
    "\n",
    "plt.legend(loc = 3)\n",
    "\n",
    "plt.title('First order approximation\\n\\n', fontsize = 14)\n",
    "plt.suptitle('Back angle of incidence is ' + str(theta) + '$^\\circ$', fontsize = 12)"
   ]
  },
  {
   "cell_type": "markdown",
   "metadata": {},
   "source": [
    "### Single nulling"
   ]
  },
  {
   "cell_type": "code",
   "execution_count": 12,
   "metadata": {
    "collapsed": false
   },
   "outputs": [
    {
     "data": {
      "text/plain": [
       "<matplotlib.text.Text at 0x7fd42afe2c10>"
      ]
     },
     "execution_count": 12,
     "metadata": {},
     "output_type": "execute_result"
    },
    {
     "data": {
      "image/png": "[encoded data removed]",
      "text/plain": [
       "<matplotlib.figure.Figure at 0x7fd433396f10>"
      ]
     },
     "metadata": {},
     "output_type": "display_data"
    }
   ],
   "source": [
    "dmin = 0\n",
    "dmax = 40\n",
    "dd = 0.1\n",
    "\n",
    "dlist = arange(dmin, dmax, dd)\n",
    "\n",
    "deltaIm = []\n",
    "deltaRe = []\n",
    "single1H = []\n",
    "single2H = []\n",
    "\n",
    "for d in dlist:\n",
    "    delta, delta1, delta2 = deltas(d, theta)\n",
    "    s1H, s2H = single(d, theta)\n",
    "    \n",
    "    deltaIm.append(delta.imag)\n",
    "    deltaRe.append(delta.real)\n",
    "    \n",
    "    single1H.append(s1H)\n",
    "    single2H.append(s2H)\n",
    "    \n",
    "plt.plot(dlist, deltaIm, lw = 3, color = 'b', alpha = 0.5, label = 'dIm')\n",
    "plt.plot(dlist, deltaRe, lw = 3, color = 'r', alpha = 0.5, label = 'dR')\n",
    "\n",
    "plt.plot(dlist, single1H, lw = 3, color = 'b', ls = '--', label = '1H')\n",
    "plt.plot(dlist, single2H, lw = 3, color = 'r', ls = '--', label = '2H')\n",
    "\n",
    "plt.axhline(y=0, color='k')\n",
    "plt.grid()\n",
    "plt.xlabel('d [nm]')\n",
    "plt.ylabel('OI-RD signal')\n",
    "\n",
    "plt.legend(loc = 3)\n",
    "\n",
    "plt.title('Single nulling\\n\\n', fontsize = 14)\n",
    "plt.suptitle('Back angle of incidence is ' + str(theta) + '$^\\circ$', fontsize = 12)"
   ]
  },
  {
   "cell_type": "markdown",
   "metadata": {},
   "source": [
    "### Double nulling"
   ]
  },
  {
   "cell_type": "code",
   "execution_count": 13,
   "metadata": {
    "collapsed": false
   },
   "outputs": [
    {
     "data": {
      "text/plain": [
       "<matplotlib.text.Text at 0x7fd42aee0750>"
      ]
     },
     "execution_count": 13,
     "metadata": {},
     "output_type": "execute_result"
    },
    {
     "data": {
      "image/png": "[encoded data removed]",
      "text/plain": [
       "<matplotlib.figure.Figure at 0x7fd43337cfd0>"
      ]
     },
     "metadata": {},
     "output_type": "display_data"
    }
   ],
   "source": [
    "dmin = 0\n",
    "dmax = 20\n",
    "dd = 0.1\n",
    "\n",
    "dlist = arange(dmin, dmax, dd)\n",
    "\n",
    "deltaIm = []\n",
    "deltaRe = []\n",
    "double1H = []\n",
    "double2H = []\n",
    "\n",
    "for d in dlist:\n",
    "    delta, delta1, delta2 = deltas(d, theta)\n",
    "    d1H, d2H = double(d, theta)\n",
    "    \n",
    "    deltaIm.append(delta.imag)\n",
    "    deltaRe.append(delta.real)\n",
    "    \n",
    "    double1H.append(d1H)\n",
    "    double2H.append(d2H)\n",
    "    \n",
    "plt.plot(dlist, deltaIm, lw = 3, color = 'b', alpha = 0.5, label = 'dIm')\n",
    "plt.plot(dlist, deltaRe, lw = 3, color = 'r', alpha = 0.5, label = 'dR')\n",
    "\n",
    "plt.plot(dlist, double1H, lw = 3, color = 'b', ls = '--', label = '1H')\n",
    "plt.plot(dlist, double2H, lw = 3, color = 'r', ls = '--', label = '2H')\n",
    "\n",
    "plt.axhline(y=0, color='k')\n",
    "plt.grid()\n",
    "plt.xlabel('d [nm]')\n",
    "plt.ylabel('OI-RD signal')\n",
    "\n",
    "plt.legend(loc = 3)\n",
    "\n",
    "plt.title('Double nulling\\n\\n', fontsize = 14)\n",
    "plt.suptitle('Back angle of incidence is ' + str(theta) + '$^\\circ$', fontsize = 12)"
   ]
  },
  {
   "cell_type": "markdown",
   "metadata": {
    "collapsed": true
   },
   "source": [
    "## Complex refraction index of the film"
   ]
  },
  {
   "cell_type": "code",
   "execution_count": 14,
   "metadata": {
    "collapsed": false
   },
   "outputs": [
    {
     "data": {
      "image/png": "[encoded data removed]",
      "text/plain": [
       "<matplotlib.figure.Figure at 0x7fd42af45790>"
      ]
     },
     "metadata": {},
     "output_type": "display_data"
    }
   ],
   "source": [
    "n2 = 1.425 + 0.7j   # protein\n",
    "\n",
    "dmin = 0\n",
    "dmax = 20\n",
    "dd = 0.1\n",
    "\n",
    "dlist = arange(dmin, dmax, dd)\n",
    "\n",
    "deltaIm = []\n",
    "deltaRe = []\n",
    "double1H = []\n",
    "double2H = []\n",
    "\n",
    "for d in dlist:\n",
    "    delta, delta1, delta2 = deltas(d, theta)\n",
    "    d1H, d2H = double(d, theta)\n",
    "    \n",
    "    deltaIm.append(delta.imag)\n",
    "    deltaRe.append(delta.real)\n",
    "    \n",
    "    double1H.append(d1H)\n",
    "    double2H.append(d2H)\n",
    "    \n",
    "plt.plot(dlist, deltaIm, lw = 3, color = 'b', alpha = 0.5, label = 'dIm')\n",
    "plt.plot(dlist, deltaRe, lw = 3, color = 'r', alpha = 0.5, label = 'dR')\n",
    "\n",
    "plt.plot(dlist, double1H, lw = 3, color = 'b', ls = '--', label = '1H')\n",
    "plt.plot(dlist, double2H, lw = 3, color = 'r', ls = '--', label = '2H')\n",
    "\n",
    "plt.axhline(y=0, color='k')\n",
    "plt.grid()\n",
    "plt.xlabel('d [nm]')\n",
    "plt.ylabel('OI-RD signal')\n",
    "\n",
    "plt.legend(loc = 2)\n",
    "\n",
    "plt.title('Double nulling\\n\\n', fontsize = 14)\n",
    "plt.suptitle('Back angle of incidence is ' + str(theta) + '$^\\circ$', fontsize = 12)\n",
    "\n",
    "n2 = 1.425"
   ]
  },
  {
   "cell_type": "code",
   "execution_count": null,
   "metadata": {
    "collapsed": true
   },
   "outputs": [],
   "source": []
  }
 ],
 "metadata": {
  "kernelspec": {
   "display_name": "Python 2",
   "language": "python",
   "name": "python2"
  },
  "language_info": {
   "codemirror_mode": {
    "name": "ipython",
    "version": 2
   },
   "file_extension": ".py",
   "mimetype": "text/x-python",
   "name": "python",
   "nbconvert_exporter": "python",
   "pygments_lexer": "ipython2",
   "version": "2.7.9"
  }
 },
 "nbformat": 4,
 "nbformat_minor": 0
}
