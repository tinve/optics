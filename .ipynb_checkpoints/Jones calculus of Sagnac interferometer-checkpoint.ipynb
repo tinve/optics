{
 "cells": [
  {
   "cell_type": "code",
   "execution_count": 54,
   "metadata": {
    "collapsed": false
   },
   "outputs": [],
   "source": [
    "from __future__ import division\n",
    "\n",
    "from sympy import *\n",
    "\n",
    "init_printing()\n"
   ]
  },
  {
   "cell_type": "code",
   "execution_count": 57,
   "metadata": {
    "collapsed": false
   },
   "outputs": [
    {
     "name": "stderr",
     "output_type": "stream",
     "text": [
      "UsageError: %%latex is a cell magic, but the cell body is empty."
     ]
    }
   ],
   "source": [
    "%%latex"
   ]
  },
  {
   "cell_type": "markdown",
   "metadata": {},
   "source": [
    "## Define symbols"
   ]
  },
  {
   "cell_type": "code",
   "execution_count": 81,
   "metadata": {
    "collapsed": true
   },
   "outputs": [],
   "source": [
    "# time\n",
    "t = Symbol('t')\n",
    "\n",
    "# phase shifts of EOM\n",
    "# constant shifts\n",
    "phi_in0  = Symbol('phi_in^0')\n",
    "phi_out0 = Symbol('phi_out^0')\n",
    "\n",
    "# amplitude of variable part\n",
    "phi_ina  = Symbol('phi_in^a')\n",
    "phi_outa = Symbol('phi_out^a')\n",
    "\n",
    "# frequency\n",
    "omega = Symbol('omega')\n",
    "\n",
    "# time delay\n",
    "tau = Symbol('tau')\n",
    "# special case when delay is exactly pi\n",
    "# tau = pi / omega\n",
    "\n",
    "# total phase shift in and out of plane\n",
    "\n",
    "# just constants for starters\n",
    "# phi_in = Symbol('phi_in')\n",
    "# phi_out = Symbol('phi_out')\n",
    "\n",
    "phi_in_t    = phi_in0  + phi_ina  * sin(omega * t)\n",
    "phi_out_t   = phi_out0 + phi_outa * sin(omega * t)\n",
    "phi_in_tau  = simplify(phi_in_t.subs(t, t + tau))\n",
    "phi_out_tau = simplify(phi_out_t.subs(t, t + tau))\n",
    "\n",
    "\n",
    "# fiber phase shifts in (1) and out (2) of plane. Constants.\n",
    "phi_1 = Symbol('phi_1')\n",
    "phi_2 = Symbol('phi_2')\n",
    "\n",
    "\n",
    "# waveplate phase shifts and Jones matrix\n",
    "# angle between axis x and fast axis of linear waveplate.\n",
    "theta = Symbol('theta')\n",
    "\n",
    "# phase retardation for fast and slow axes:\n",
    "phi_fast = Symbol('phi_fast')\n",
    "phi_slow = Symbol('phi_slow')\n",
    "\n",
    "# waveplate matrix\n",
    "M_waveplate = Matrix([[exp(I * phi_fast) * cos(theta) ** 2 + exp(I * phi_slow) * sin(theta) ** 2,\n",
    "                      (exp(I * phi_fast) - exp(I * phi_slow)) * cos(theta) * sin(theta)],\n",
    "                     [(exp(I * phi_fast) - exp(I * phi_slow)) * cos(theta) * sin(theta),\n",
    "                       exp(I * phi_fast) * sin(theta) ** 2 + exp(I * phi_slow) * cos(theta) ** 2]])\n",
    "\n",
    "\n",
    "# phase reatrdat"
   ]
  },
  {
   "cell_type": "markdown",
   "metadata": {},
   "source": [
    "## Verify some expressions"
   ]
  },
  {
   "cell_type": "markdown",
   "metadata": {},
   "source": [
    "Phase shift of EOM in plane at moment $t$:"
   ]
  },
  {
   "cell_type": "code",
   "execution_count": 59,
   "metadata": {
    "collapsed": false
   },
   "outputs": [
    {
     "data": {
      "image/png": "[encoded data removed]",
      "text/latex": [
       "$$\\phi^{0}_{in} + \\phi^{a}_{in} \\sin{\\left (\\omega t \\right )}$$"
      ],
      "text/plain": [
       "φ_in__0 + φ_in__a⋅sin(ω⋅t)"
      ]
     },
     "execution_count": 59,
     "metadata": {},
     "output_type": "execute_result"
    }
   ],
   "source": [
    "phi_in_t"
   ]
  },
  {
   "cell_type": "markdown",
   "metadata": {},
   "source": [
    "Phase shift of EOM out of plane at moment $t$:"
   ]
  },
  {
   "cell_type": "code",
   "execution_count": 60,
   "metadata": {
    "collapsed": false
   },
   "outputs": [
    {
     "data": {
      "image/png": "[encoded data removed]",
      "text/latex": [
       "$$\\phi^{0}_{out} + \\phi^{a}_{out} \\sin{\\left (\\omega t \\right )}$$"
      ],
      "text/plain": [
       "φ_out__0 + φ_out__a⋅sin(ω⋅t)"
      ]
     },
     "execution_count": 60,
     "metadata": {},
     "output_type": "execute_result"
    }
   ],
   "source": [
    "phi_out_t"
   ]
  },
  {
   "cell_type": "markdown",
   "metadata": {},
   "source": [
    "Phase shift of EOM in plane at moment $t + \\tau$:"
   ]
  },
  {
   "cell_type": "code",
   "execution_count": 61,
   "metadata": {
    "collapsed": false
   },
   "outputs": [
    {
     "data": {
      "image/png": "[encoded data removed]",
      "text/latex": [
       "$$\\phi^{0}_{in} + \\phi^{a}_{in} \\sin{\\left (\\omega \\left(t + \\tau\\right) \\right )}$$"
      ],
      "text/plain": [
       "φ_in__0 + φ_in__a⋅sin(ω⋅(t + τ))"
      ]
     },
     "execution_count": 61,
     "metadata": {},
     "output_type": "execute_result"
    }
   ],
   "source": [
    "phi_in_tau"
   ]
  },
  {
   "cell_type": "markdown",
   "metadata": {},
   "source": [
    "Phase shift of EOM out of plane at moment $t + \\tau$:"
   ]
  },
  {
   "cell_type": "code",
   "execution_count": 63,
   "metadata": {
    "collapsed": false
   },
   "outputs": [
    {
     "data": {
      "image/png": "[encoded data removed]",
      "text/latex": [
       "$$\\phi^{0}_{out} + \\phi^{a}_{out} \\sin{\\left (\\omega \\left(t + \\tau\\right) \\right )}$$"
      ],
      "text/plain": [
       "φ_out__0 + φ_out__a⋅sin(ω⋅(t + τ))"
      ]
     },
     "execution_count": 63,
     "metadata": {},
     "output_type": "execute_result"
    }
   ],
   "source": [
    "phi_out_tau"
   ]
  },
  {
   "cell_type": "markdown",
   "metadata": {},
   "source": [
    "Matrix of arbitrary linear waveplate:"
   ]
  },
  {
   "cell_type": "code",
   "execution_count": 82,
   "metadata": {
    "collapsed": false
   },
   "outputs": [
    {
     "data": {
      "image/png": "[encoded data removed]",
      "text/latex": [
       "$$\\left[\\begin{matrix}e^{i \\phi_{fast}} \\cos^{2}{\\left (\\theta \\right )} + e^{i \\phi_{slow}} \\sin^{2}{\\left (\\theta \\right )} & \\left(e^{i \\phi_{fast}} - e^{i \\phi_{slow}}\\right) \\sin{\\left (\\theta \\right )} \\cos{\\left (\\theta \\right )}\\\\\\left(e^{i \\phi_{fast}} - e^{i \\phi_{slow}}\\right) \\sin{\\left (\\theta \\right )} \\cos{\\left (\\theta \\right )} & e^{i \\phi_{fast}} \\sin^{2}{\\left (\\theta \\right )} + e^{i \\phi_{slow}} \\cos^{2}{\\left (\\theta \\right )}\\end{matrix}\\right]$$"
      ],
      "text/plain": [
       "⎡ ⅈ⋅φ_fast    2       ⅈ⋅φ_slow    2     ⎛ ⅈ⋅φ_fast    ⅈ⋅φ_slow⎞              ⎤\n",
       "⎢ℯ        ⋅cos (θ) + ℯ        ⋅sin (θ)  ⎝ℯ         - ℯ        ⎠⋅sin(θ)⋅cos(θ)⎥\n",
       "⎢                                                                            ⎥\n",
       "⎢⎛ ⅈ⋅φ_fast    ⅈ⋅φ_slow⎞                 ⅈ⋅φ_fast    2       ⅈ⋅φ_slow    2   ⎥\n",
       "⎣⎝ℯ         - ℯ        ⎠⋅sin(θ)⋅cos(θ)  ℯ        ⋅sin (θ) + ℯ        ⋅cos (θ)⎦"
      ]
     },
     "execution_count": 82,
     "metadata": {},
     "output_type": "execute_result"
    }
   ],
   "source": [
    "M_waveplate"
   ]
  },
  {
   "cell_type": "markdown",
   "metadata": {},
   "source": [
    "## Define Jones matrices\n",
    "Incoming light:"
   ]
  },
  {
   "cell_type": "code",
   "execution_count": 33,
   "metadata": {
    "collapsed": false
   },
   "outputs": [
    {
     "data": {
      "image/png": "[encoded data removed]",
      "text/latex": [
       "$$\\left[\\begin{matrix}\\frac{\\sqrt{2}}{2}\\\\\\frac{\\sqrt{2}}{2}\\end{matrix}\\right]$$"
      ],
      "text/plain": [
       "⎡  ___⎤\n",
       "⎢╲╱ 2 ⎥\n",
       "⎢─────⎥\n",
       "⎢  2  ⎥\n",
       "⎢     ⎥\n",
       "⎢  ___⎥\n",
       "⎢╲╱ 2 ⎥\n",
       "⎢─────⎥\n",
       "⎣  2  ⎦"
      ]
     },
     "execution_count": 33,
     "metadata": {},
     "output_type": "execute_result"
    }
   ],
   "source": [
    "E_in = (1/sqrt(2)) * ones(2, 1)\n",
    "E_in"
   ]
  },
  {
   "cell_type": "markdown",
   "metadata": {
    "collapsed": false
   },
   "source": [
    "EOM on the way in:"
   ]
  },
  {
   "cell_type": "code",
   "execution_count": 65,
   "metadata": {
    "collapsed": false
   },
   "outputs": [
    {
     "data": {
      "image/png": "[encoded data removed]",
      "text/latex": [
       "$$\\left[\\begin{matrix}e^{i \\left(\\phi^{0}_{in} + \\phi^{a}_{in} \\sin{\\left (\\omega t \\right )}\\right)} & 0\\\\0 & e^{i \\left(\\phi^{0}_{out} + \\phi^{a}_{out} \\sin{\\left (\\omega t \\right )}\\right)}\\end{matrix}\\right]$$"
      ],
      "text/plain": [
       "⎡ ⅈ⋅(φ_in__0 + φ_in__a⋅sin(ω⋅t))                                   ⎤\n",
       "⎢ℯ                                                0                ⎥\n",
       "⎢                                                                  ⎥\n",
       "⎢                                  ⅈ⋅(φ_out__0 + φ_out__a⋅sin(ω⋅t))⎥\n",
       "⎣               0                 ℯ                                ⎦"
      ]
     },
     "execution_count": 65,
     "metadata": {},
     "output_type": "execute_result"
    }
   ],
   "source": [
    "M_EOM_there = Matrix([[exp(I * phi_in_t), 0], [0, exp(I * phi_out_t)]])\n",
    "M_EOM_there"
   ]
  },
  {
   "cell_type": "markdown",
   "metadata": {},
   "source": [
    "EOM on the way back:"
   ]
  },
  {
   "cell_type": "code",
   "execution_count": 67,
   "metadata": {
    "collapsed": false
   },
   "outputs": [
    {
     "data": {
      "image/png": "[encoded data removed]",
      "text/latex": [
       "$$\\left[\\begin{matrix}e^{i \\left(\\phi^{0}_{in} + \\phi^{a}_{in} \\sin{\\left (\\omega \\left(t + \\tau\\right) \\right )}\\right)} & 0\\\\0 & e^{i \\left(\\phi^{0}_{out} + \\phi^{a}_{out} \\sin{\\left (\\omega \\left(t + \\tau\\right) \\right )}\\right)}\\end{matrix}\\right]$$"
      ],
      "text/plain": [
       "⎡ ⅈ⋅(φ_in__0 + φ_in__a⋅sin(ω⋅(t + τ)))                                        \n",
       "⎢ℯ                                                         0                  \n",
       "⎢                                                                             \n",
       "⎢                                        ⅈ⋅(φ_out__0 + φ_out__a⋅sin(ω⋅(t + τ))\n",
       "⎣                  0                    ℯ                                     \n",
       "\n",
       " ⎤\n",
       " ⎥\n",
       " ⎥\n",
       ")⎥\n",
       " ⎦"
      ]
     },
     "execution_count": 67,
     "metadata": {},
     "output_type": "execute_result"
    }
   ],
   "source": [
    "M_EOM_back = Matrix([[exp(I * phi_in_tau), 0], [0, exp(I * phi_out_tau)]])\n",
    "M_EOM_back"
   ]
  },
  {
   "cell_type": "markdown",
   "metadata": {},
   "source": [
    "Fiber is the same on the way there or back:"
   ]
  },
  {
   "cell_type": "code",
   "execution_count": 69,
   "metadata": {
    "collapsed": false
   },
   "outputs": [
    {
     "data": {
      "image/png": "[encoded data removed]",
      "text/latex": [
       "$$\\left[\\begin{matrix}e^{i \\phi_{1}} & 0\\\\0 & e^{i \\phi_{2}}\\end{matrix}\\right]$$"
      ],
      "text/plain": [
       "⎡ ⅈ⋅φ₁       ⎤\n",
       "⎢ℯ        0  ⎥\n",
       "⎢            ⎥\n",
       "⎢        ⅈ⋅φ₂⎥\n",
       "⎣  0    ℯ    ⎦"
      ]
     },
     "execution_count": 69,
     "metadata": {},
     "output_type": "execute_result"
    }
   ],
   "source": [
    "M_fiber = Matrix([[exp(I * phi_1), 0], [0, exp(I * phi_2)]])\n",
    "M_fiber"
   ]
  },
  {
   "cell_type": "markdown",
   "metadata": {},
   "source": [
    "$\\lambda / 4$ plate on the way in (at $\\pi / 4$ angle):"
   ]
  },
  {
   "cell_type": "code",
   "execution_count": 94,
   "metadata": {
    "collapsed": false
   },
   "outputs": [
    {
     "data": {
      "image/png": "[encoded data removed]",
      "text/latex": [
       "$$\\left[\\begin{matrix}\\frac{1}{2} + \\frac{i}{2} & \\frac{1}{2} - \\frac{i}{2}\\\\\\frac{1}{2} - \\frac{i}{2} & \\frac{1}{2} + \\frac{i}{2}\\end{matrix}\\right]$$"
      ],
      "text/plain": [
       "⎡1   ⅈ  1   ⅈ⎤\n",
       "⎢─ + ─  ─ - ─⎥\n",
       "⎢2   2  2   2⎥\n",
       "⎢            ⎥\n",
       "⎢1   ⅈ  1   ⅈ⎥\n",
       "⎢─ - ─  ─ + ─⎥\n",
       "⎣2   2  2   2⎦"
      ]
     },
     "execution_count": 94,
     "metadata": {},
     "output_type": "execute_result"
    }
   ],
   "source": [
    "M_lambda_there = simplify(M_waveplate.subs([(theta, pi/4), (phi_fast, 0), (phi_slow, pi/2)]))\n",
    "M_lambda_there"
   ]
  },
  {
   "cell_type": "markdown",
   "metadata": {},
   "source": [
    "$\\lambda / 4$ plate on the way in (at $- \\pi / 4$ angle):"
   ]
  },
  {
   "cell_type": "code",
   "execution_count": 96,
   "metadata": {
    "collapsed": false
   },
   "outputs": [
    {
     "data": {
      "image/png": "[encoded data removed]",
      "text/latex": [
       "$$\\left[\\begin{matrix}\\frac{1}{2} + \\frac{i}{2} & - \\frac{1}{2} + \\frac{i}{2}\\\\- \\frac{1}{2} + \\frac{i}{2} & \\frac{1}{2} + \\frac{i}{2}\\end{matrix}\\right]$$"
      ],
      "text/plain": [
       "⎡ 1   ⅈ     1   ⅈ⎤\n",
       "⎢ ─ + ─   - ─ + ─⎥\n",
       "⎢ 2   2     2   2⎥\n",
       "⎢                ⎥\n",
       "⎢  1   ⅈ   1   ⅈ ⎥\n",
       "⎢- ─ + ─   ─ + ─ ⎥\n",
       "⎣  2   2   2   2 ⎦"
      ]
     },
     "execution_count": 96,
     "metadata": {},
     "output_type": "execute_result"
    }
   ],
   "source": [
    "M_lambda_back = simplify(M_waveplate.subs([(theta, - pi/4), (phi_fast, 0), (phi_slow, pi/2)]))\n",
    "M_lambda_back"
   ]
  },
  {
   "cell_type": "markdown",
   "metadata": {},
   "source": [
    "Reflecting sample with circular eigen polarizations:"
   ]
  },
  {
   "cell_type": "code",
   "execution_count": null,
   "metadata": {
    "collapsed": true
   },
   "outputs": [],
   "source": []
  }
 ],
 "metadata": {
  "kernelspec": {
   "display_name": "Python 2",
   "language": "python",
   "name": "python2"
  },
  "language_info": {
   "codemirror_mode": {
    "name": "ipython",
    "version": 2
   },
   "file_extension": ".py",
   "mimetype": "text/x-python",
   "name": "python",
   "nbconvert_exporter": "python",
   "pygments_lexer": "ipython2",
   "version": "2.7.6"
  }
 },
 "nbformat": 4,
 "nbformat_minor": 0
}
