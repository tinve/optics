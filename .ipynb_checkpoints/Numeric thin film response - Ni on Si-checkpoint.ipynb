{
 "cells": [
  {
   "cell_type": "code",
   "execution_count": 35,
   "metadata": {
    "collapsed": false
   },
   "outputs": [],
   "source": [
    "from __future__ import division\n",
    "\n",
    "from cmath import *\n",
    "from math import radians\n",
    "from numpy import arange\n",
    "\n",
    "import matplotlib.pyplot as plt\n",
    "import matplotlib.colors as colors\n",
    "import matplotlib.cm as cm\n",
    "\n",
    "%matplotlib inline"
   ]
  },
  {
   "cell_type": "markdown",
   "metadata": {},
   "source": [
    "### Constants"
   ]
  },
  {
   "cell_type": "code",
   "execution_count": 36,
   "metadata": {
    "collapsed": false
   },
   "outputs": [],
   "source": [
    "# refraction indices\n",
    "n1 = 1                     # air\n",
    "n2 = 1.9900 + 1j * 4.1114  # Ni\n",
    "n3 = 3.4434                # Si\n",
    "\n",
    "# n2 = 2.2129 + 1j * 4.1710  #Co\n",
    "\n",
    "# wavelength (in nm)\n",
    "l = 633"
   ]
  },
  {
   "cell_type": "markdown",
   "metadata": {},
   "source": [
    "### Auxiliary functions"
   ]
  },
  {
   "cell_type": "code",
   "execution_count": 37,
   "metadata": {
    "collapsed": true
   },
   "outputs": [],
   "source": [
    "# refraction angle\n",
    "def theta_func(na, nb, thetaa):\n",
    "    return asin( na * sin(thetaa) / nb )\n",
    "\n",
    "# p-reflectivity\n",
    "def rp_func(na, nb, thetaa):\n",
    "    thetab = theta_func(na, nb, thetaa)\n",
    "    rpab = (nb*cos(thetaa) - na*cos(thetab)) / (nb*cos(thetaa) + na*cos(thetab))\n",
    "    return rpab\n",
    "\n",
    "# s-reflectivity\n",
    "def rs_func(na, nb, thetaa):\n",
    "    thetab = theta_func(na, nb, thetaa)\n",
    "    rsab = (na*cos(thetaa) - nb*cos(thetab)) / (na*cos(thetaa) + nb*cos(thetab))\n",
    "    return rsab\n",
    "\n",
    "# reflectivity of the film\n",
    "def r_func(r12, r23, gamma):\n",
    "    return (r12 + r23*exp(2j*gamma))/(1 + r12*r23*exp(2j*gamma))"
   ]
  },
  {
   "cell_type": "markdown",
   "metadata": {},
   "source": [
    "### Reflectivities function"
   ]
  },
  {
   "cell_type": "code",
   "execution_count": 38,
   "metadata": {
    "collapsed": true
   },
   "outputs": [],
   "source": [
    "def ref_func(d, theta):\n",
    "    \n",
    "    # incidence angles (in radians)\n",
    "    theta1 = radians(theta)\n",
    "    theta2 = theta_func(n1, n2, theta1)\n",
    "    theta3 = theta_func(n1, n3, theta1)\n",
    "\n",
    "    # gamma\n",
    "    gamma = 2 * pi * n2 *cos(theta2) * d / l\n",
    "    \n",
    "    # p-reflectivities\n",
    "    rp12 = rp_func(n1, n2, theta1)\n",
    "    rp23 = rp_func(n2, n3, theta2)\n",
    "    rp13 = rp_func(n1, n3, theta1)\n",
    "    \n",
    "    # s-reflectivities\n",
    "    rs12 = rs_func(n1, n2, theta1)\n",
    "    rs23 = rs_func(n2, n3, theta2)\n",
    "    rs13 = rs_func(n1, n3, theta1)\n",
    "    \n",
    "    # reference reflectivities\n",
    "    rp0 = rp13\n",
    "    rs0 = rs13\n",
    "\n",
    "    # total reflectivities\n",
    "    rp = r_func(rp12, rp23, gamma)\n",
    "    rs = r_func(rs12, rs23, gamma)\n",
    "    \n",
    "    return rs, rp"
   ]
  },
  {
   "cell_type": "markdown",
   "metadata": {},
   "source": [
    "### Calculation"
   ]
  },
  {
   "cell_type": "code",
   "execution_count": 39,
   "metadata": {
    "collapsed": true
   },
   "outputs": [],
   "source": [
    "d = 1\n",
    "theta = 45\n",
    "\n",
    "rs, rp = ref_func(d, theta)"
   ]
  },
  {
   "cell_type": "code",
   "execution_count": 42,
   "metadata": {
    "collapsed": false
   },
   "outputs": [
    {
     "name": "stdout",
     "output_type": "stream",
     "text": [
      "rp = 0.4450+0.0282j\n",
      "rs = -0.6669-0.0198j \n",
      "\n",
      "phase(rp) = 0.0633\n",
      "phase(rs) = -3.1119 \n",
      "\n",
      "abs(rp) = 0.4459\n",
      "abs(rs) = 0.6672\n"
     ]
    }
   ],
   "source": [
    "print 'rp =', '{0:.4f}'.format(rp)\n",
    "print 'rs =', '{0:.4f}'.format(rs), '\\n'\n",
    "print 'phase(rp) =', '{0:.4f}'.format(phase(rp))\n",
    "print 'phase(rs) =', '{0:.4f}'.format(phase(rs)), '\\n'\n",
    "print 'abs(rp) =', '{0:.4f}'.format(abs(rp))\n",
    "print 'abs(rs) =', '{0:.4f}'.format(abs(rs))"
   ]
  },
  {
   "cell_type": "markdown",
   "metadata": {},
   "source": [
    "## Range of angles\n",
    "### First order approximation"
   ]
  },
  {
   "cell_type": "code",
   "execution_count": 72,
   "metadata": {
    "collapsed": true
   },
   "outputs": [],
   "source": [
    "d = 1\n",
    "\n",
    "tmin = 0\n",
    "tmax = 90\n",
    "dt = 0.01\n",
    "\n",
    "tlist = arange(tmin, tmax + dt, dt)\n",
    "\n",
    "rsRe = []\n",
    "rsIm = []\n",
    "rpRe = []\n",
    "rpIm = []\n",
    "\n",
    "for t in tlist:\n",
    "    rs, rp = ref_func(d, t)\n",
    "    \n",
    "    rsRe.append(rs.real)\n",
    "    rsIm.append(rs.imag)\n",
    "    \n",
    "    rpRe.append(rp.real)\n",
    "    rpIm.append(rp.imag)"
   ]
  },
  {
   "cell_type": "code",
   "execution_count": 73,
   "metadata": {
    "collapsed": false
   },
   "outputs": [
    {
     "data": {
      "text/plain": [
       "<matplotlib.text.Text at 0x7fc8ea06cc50>"
      ]
     },
     "execution_count": 73,
     "metadata": {},
     "output_type": "execute_result"
    },
    {
     "data": {
      "image/png": "[encoded data removed]",
      "text/plain": [
       "<matplotlib.figure.Figure at 0x7fc8ea153810>"
      ]
     },
     "metadata": {},
     "output_type": "display_data"
    }
   ],
   "source": [
    "plt.plot(tlist, rsRe, lw = 3, color = 'r', label = r'$\\operatorname{Re}\\ r_s$')\n",
    "plt.plot(tlist, rsIm, lw = 3, color = 'b', label = r'$\\operatorname{Im}\\ r_s$')\n",
    "\n",
    "plt.ylim((-1.1, 0.1))\n",
    "plt.axhline(y = 0, color = 'k')\n",
    "plt.grid()\n",
    "plt.xlabel(r'$\\theta$ (deg)')\n",
    "plt.ylabel('Reflectivity')\n",
    "\n",
    "plt.legend(loc = 3)\n",
    "\n",
    "plt.title('s-polarization\\n\\n', fontsize = 14)\n",
    "plt.suptitle('Film thickness is ' + str(d) +  'nm', fontsize = 12)"
   ]
  },
  {
   "cell_type": "code",
   "execution_count": 99,
   "metadata": {
    "collapsed": false
   },
   "outputs": [
    {
     "data": {
      "text/plain": [
       "<matplotlib.text.Text at 0x7fc8e8853390>"
      ]
     },
     "execution_count": 99,
     "metadata": {},
     "output_type": "execute_result"
    },
    {
     "data": {
      "image/png": "[encoded data removed]",
      "text/plain": [
       "<matplotlib.figure.Figure at 0x7fc8e8bacb10>"
      ]
     },
     "metadata": {},
     "output_type": "display_data"
    }
   ],
   "source": [
    "# plt.plot(tlist, rpRe, lw = 3, color = 'r', alpha = 0.2)\n",
    "# plt.plot(tlist, rpIm, lw = 3, color = 'b', alpha = 0.2)\n",
    "plt.plot(tlist, rpRe, lw = 3, color = 'r', label = r'$\\operatorname{Re}\\ r_p$', ls = '--')\n",
    "plt.plot(tlist, rpIm, lw = 3, color = 'b', label = r'$\\operatorname{Im}\\ r_p$', ls = '--')\n",
    "\n",
    "plt.ylim((-1.1, 0.7))\n",
    "plt.axhline(y = 0, color = 'k')\n",
    "plt.grid()\n",
    "plt.xlabel(r'$\\theta$ (deg)')\n",
    "plt.ylabel('Reflectivity')\n",
    "\n",
    "plt.legend(loc = 3)\n",
    "\n",
    "plt.title('p-polarization\\n\\n', fontsize = 14)\n",
    "plt.suptitle('Film thickness is ' + str(d) +  'nm', fontsize = 12)"
   ]
  },
  {
   "cell_type": "code",
   "execution_count": 102,
   "metadata": {
    "collapsed": false
   },
   "outputs": [
    {
     "data": {
      "text/plain": [
       "<matplotlib.text.Text at 0x7fc8e859a610>"
      ]
     },
     "execution_count": 102,
     "metadata": {},
     "output_type": "execute_result"
    },
    {
     "data": {
      "image/png": "[encoded data removed]",
      "text/plain": [
       "<matplotlib.figure.Figure at 0x7fc8e8713dd0>"
      ]
     },
     "metadata": {},
     "output_type": "display_data"
    }
   ],
   "source": [
    "plt.plot(tlist, rsIm, lw = 3, color = 'b', label = r'$\\operatorname{Im}\\ r_s$')\n",
    "# plt.plot(tlist, rpIm, lw = 3, color = 'b', alpha = 0.2)\n",
    "plt.plot(tlist, rpIm, lw = 3, color = 'b', label = r'$\\operatorname{Im}\\ r_p$', ls = '--')\n",
    "\n",
    "# plt.ylim((-1.1, 0.7))\n",
    "plt.axhline(y = 0, color = 'k')\n",
    "plt.grid()\n",
    "plt.xlabel(r'$\\theta$ (deg)')\n",
    "plt.ylabel('Reflectivity')\n",
    "\n",
    "plt.legend(bbox_to_anchor=(1.01, 1), loc = 2, borderaxespad = 0)\n",
    "\n",
    "plt.title('Imaginary parts\\n\\n', fontsize = 14)\n",
    "plt.suptitle('Film thickness is ' + str(d) +  'nm', fontsize = 12)"
   ]
  },
  {
   "cell_type": "code",
   "execution_count": null,
   "metadata": {
    "collapsed": true
   },
   "outputs": [],
   "source": []
  },
  {
   "cell_type": "code",
   "execution_count": null,
   "metadata": {
    "collapsed": true
   },
   "outputs": [],
   "source": []
  }
 ],
 "metadata": {
  "kernelspec": {
   "display_name": "Python 2",
   "language": "python",
   "name": "python2"
  },
  "language_info": {
   "codemirror_mode": {
    "name": "ipython",
    "version": 2
   },
   "file_extension": ".py",
   "mimetype": "text/x-python",
   "name": "python",
   "nbconvert_exporter": "python",
   "pygments_lexer": "ipython2",
   "version": "2.7.9"
  }
 },
 "nbformat": 4,
 "nbformat_minor": 0
}
