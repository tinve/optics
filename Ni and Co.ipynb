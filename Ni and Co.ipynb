{
 "cells": [
  {
   "cell_type": "code",
   "execution_count": 1,
   "metadata": {
    "collapsed": false
   },
   "outputs": [],
   "source": [
    "from __future__ import division\n",
    "\n",
    "from cmath import *\n",
    "from math import radians\n",
    "from numpy import arange\n",
    "from numpy import testing\n",
    "\n",
    "import matplotlib.pyplot as plt\n",
    "import pandas as pd\n",
    "\n",
    "%matplotlib inline"
   ]
  },
  {
   "cell_type": "markdown",
   "metadata": {},
   "source": [
    "### Constants"
   ]
  },
  {
   "cell_type": "code",
   "execution_count": 2,
   "metadata": {
    "collapsed": false
   },
   "outputs": [],
   "source": [
    "# refractive indices\n",
    "n0 = 1\n",
    "n_Ni = 1.76 + 1j * 3.1\n",
    "n_Co = 2.2129 + 1j * 4.1710\n",
    "\n",
    "# wavelength (in nm)\n",
    "l = 633\n",
    "\n",
    "# incidence angle\n",
    "theta = 45"
   ]
  },
  {
   "cell_type": "markdown",
   "metadata": {},
   "source": [
    "### Auxiliary functions"
   ]
  },
  {
   "cell_type": "code",
   "execution_count": 3,
   "metadata": {
    "collapsed": true
   },
   "outputs": [],
   "source": [
    "# refraction angle\n",
    "def theta_func(na, nb, thetaa):\n",
    "    return asin( na * sin(thetaa) / nb )\n",
    "\n",
    "# p-reflectivity\n",
    "def rp(na, nb, thetaa):\n",
    "    thetab = theta_func(na, nb, thetaa)\n",
    "    rpab = (nb*cos(thetaa) - na*cos(thetab)) / (nb*cos(thetaa) + na*cos(thetab))\n",
    "    return rpab\n",
    "\n",
    "# s-reflectivity\n",
    "def rs(na, nb, thetaa):\n",
    "    thetab = theta_func(na, nb, thetaa)\n",
    "    rsab = (na*cos(thetaa) - nb*cos(thetab)) / (na*cos(thetaa) + nb*cos(thetab))\n",
    "    return rsab"
   ]
  },
  {
   "cell_type": "markdown",
   "metadata": {},
   "source": [
    "### Calculation"
   ]
  },
  {
   "cell_type": "code",
   "execution_count": 4,
   "metadata": {
    "collapsed": false
   },
   "outputs": [
    {
     "data": {
      "text/plain": [
       "0.7853981633974483"
      ]
     },
     "execution_count": 4,
     "metadata": {},
     "output_type": "execute_result"
    }
   ],
   "source": [
    "theta_in = radians(theta)\n",
    "theta_in"
   ]
  },
  {
   "cell_type": "code",
   "execution_count": 5,
   "metadata": {
    "collapsed": false
   },
   "outputs": [],
   "source": [
    "rs_Ni = rs(n0, n_Ni, theta_in)\n",
    "rp_Ni = rp(n0, n_Ni, theta_in)\n",
    "rs_Co = rs(n0, n_Co, theta_in)\n",
    "rp_Co = rp(n0, n_Co, theta_in)"
   ]
  },
  {
   "cell_type": "code",
   "execution_count": 6,
   "metadata": {
    "collapsed": false
   },
   "outputs": [
    {
     "name": "stdout",
     "output_type": "stream",
     "text": [
      "Incidence angle 45 degrees\n",
      "\n",
      "s-reflectivity of Ni: \t-0.7837-0.2809j\n",
      "p-reflectivity of Ni: \t0.5353+0.4404j \n",
      "\n",
      "s-reflectivity of Co: \t-0.8435-0.2279j\n",
      "p-reflectivity of Co: \t0.6596+0.3845j\n"
     ]
    }
   ],
   "source": [
    "print 'Incidence angle', theta, 'degrees\\n'\n",
    "print 's-reflectivity of Ni: \\t', '{0:.4f}'.format(rs_Ni)\n",
    "print 'p-reflectivity of Ni: \\t', '{0:.4f}'.format(rp_Ni), '\\n'\n",
    "print 's-reflectivity of Co: \\t', '{0:.4f}'.format(rs_Co)\n",
    "print 'p-reflectivity of Co: \\t', '{0:.4f}'.format(rp_Co)"
   ]
  },
  {
   "cell_type": "code",
   "execution_count": 7,
   "metadata": {
    "collapsed": false
   },
   "outputs": [
    {
     "data": {
      "text/plain": [
       "(-0.09409542492685168+0.17231869889532211j)"
      ]
     },
     "execution_count": 7,
     "metadata": {},
     "output_type": "execute_result"
    }
   ],
   "source": [
    "(rp_Ni + rs_Ni) / (rp_Ni - rs_Ni)"
   ]
  },
  {
   "cell_type": "code",
   "execution_count": 8,
   "metadata": {
    "collapsed": false
   },
   "outputs": [
    {
     "data": {
      "text/plain": [
       "(-0.06853554885819979+0.13209096460088177j)"
      ]
     },
     "execution_count": 8,
     "metadata": {},
     "output_type": "execute_result"
    }
   ],
   "source": [
    "(rp_Co + rs_Co) / (rp_Co - rs_Co)"
   ]
  },
  {
   "cell_type": "markdown",
   "metadata": {},
   "source": [
    "## Plots"
   ]
  },
  {
   "cell_type": "code",
   "execution_count": 9,
   "metadata": {
    "collapsed": false
   },
   "outputs": [],
   "source": [
    "d_theta = 1\n",
    "\n",
    "theta_min = 0\n",
    "theta_max = 90 + d_theta\n",
    "\n",
    "\n",
    "theta_list = arange(theta_min, theta_max, d_theta)"
   ]
  },
  {
   "cell_type": "code",
   "execution_count": 10,
   "metadata": {
    "collapsed": false
   },
   "outputs": [],
   "source": [
    "rp_Ni = []\n",
    "rs_Ni = []\n",
    "rp_Co = []\n",
    "rs_Co = []\n",
    "\n",
    "for t in theta_list:\n",
    "    rp_Ni.append( rp(n0, n_Ni, radians(t)) )\n",
    "    rs_Ni.append( rs(n0, n_Ni, radians(t)) ) \n",
    "    \n",
    "    rp_Co.append( rp(n0, n_Co, radians(t)) )\n",
    "    rs_Co.append( rs(n0, n_Co, radians(t)) )\n",
    "\n",
    "    "
   ]
  },
  {
   "cell_type": "code",
   "execution_count": 11,
   "metadata": {
    "collapsed": false
   },
   "outputs": [
    {
     "data": {
      "text/html": [
       "<div>\n",
       "<table border=\"1\" class=\"dataframe\">\n",
       "  <thead>\n",
       "    <tr style=\"text-align: right;\">\n",
       "      <th></th>\n",
       "      <th>rp_Co</th>\n",
       "      <th>rp_Ni</th>\n",
       "      <th>rs_Co</th>\n",
       "      <th>rs_Ni</th>\n",
       "      <th>theta</th>\n",
       "      <th>rp_Co^2</th>\n",
       "      <th>rp_Ni^2</th>\n",
       "      <th>rs_Co^2</th>\n",
       "      <th>rs_Ni^2</th>\n",
       "      <th>rp_Ni^2 - rs_Ni^2</th>\n",
       "      <th>rp_Ni^2 + rs_Ni^2</th>\n",
       "      <th>rp_Co^2 - rs_Co^2</th>\n",
       "      <th>rp_Co^2 + rs_Co^2</th>\n",
       "    </tr>\n",
       "  </thead>\n",
       "  <tbody>\n",
       "    <tr>\n",
       "      <th>0</th>\n",
       "      <td>(0.768188760652+0.300938304747j)</td>\n",
       "      <td>(0.679583923472+0.359887622188j)</td>\n",
       "      <td>(-0.768188760652-0.300938304747j)</td>\n",
       "      <td>(-0.679583923472-0.359887622188j)</td>\n",
       "      <td>0</td>\n",
       "      <td>(0.499550108728+0.462354846712j)</td>\n",
       "      <td>(0.332315208437+0.48914768459j)</td>\n",
       "      <td>(0.499550108728+0.462354846712j)</td>\n",
       "      <td>(0.332315208437+0.48914768459j)</td>\n",
       "      <td>0j</td>\n",
       "      <td>(0.664630416874+0.978295369181j)</td>\n",
       "      <td>0j</td>\n",
       "      <td>(0.999100217456+0.924709693424j)</td>\n",
       "    </tr>\n",
       "    <tr>\n",
       "      <th>1</th>\n",
       "      <td>(0.768148377998+0.30097298801j)</td>\n",
       "      <td>(0.679528502482+0.359922941472j)</td>\n",
       "      <td>(-0.768229136751-0.300903623512j)</td>\n",
       "      <td>(-0.679639336438-0.359852303028j)</td>\n",
       "      <td>1</td>\n",
       "      <td>(0.49946719111+0.462383825122j)</td>\n",
       "      <td>(0.332214461888+0.489155794854j)</td>\n",
       "      <td>(0.49963301591+0.462325861872j)</td>\n",
       "      <td>(0.332415947639+0.489139560892j)</td>\n",
       "      <td>(-0.00020148575128+1.62339625101e-05j)</td>\n",
       "      <td>(0.664630409527+0.978295355746j)</td>\n",
       "      <td>(-0.000165824800414+5.79632500039e-05j)</td>\n",
       "      <td>(0.99910020702+0.924709686993j)</td>\n",
       "    </tr>\n",
       "    <tr>\n",
       "      <th>2</th>\n",
       "      <td>(0.768027170283+0.301077072252j)</td>\n",
       "      <td>(0.679362166021+0.360028925831j)</td>\n",
       "      <td>(-0.768350246109-0.300799569705j)</td>\n",
       "      <td>(-0.679805552511-0.359746320549j)</td>\n",
       "      <td>2</td>\n",
       "      <td>(0.499218330858+0.462470743678j)</td>\n",
       "      <td>(0.331912125186+0.489180061765j)</td>\n",
       "      <td>(0.49988171956+0.462238846825j)</td>\n",
       "      <td>(0.332718174077+0.48911509241j)</td>\n",
       "      <td>(-0.000806048890785+6.49693552589e-05j)</td>\n",
       "      <td>(0.664630299263+0.978295154174j)</td>\n",
       "      <td>(-0.000663388702619+0.000231896853464j)</td>\n",
       "      <td>(0.999100050418+0.924709590503j)</td>\n",
       "    </tr>\n",
       "    <tr>\n",
       "      <th>3</th>\n",
       "      <td>(0.767824958035+0.301250660902j)</td>\n",
       "      <td>(0.679084693372+0.360205654798j)</td>\n",
       "      <td>(-0.768552031913-0.300626113047j)</td>\n",
       "      <td>(-0.680082503202-0.359569599795j)</td>\n",
       "      <td>3</td>\n",
       "      <td>(0.498803205487+0.462615552131j)</td>\n",
       "      <td>(0.331407907024+0.489220293279j)</td>\n",
       "      <td>(0.500296165911+0.462093620057j)</td>\n",
       "      <td>(0.333221914064+0.489073987008j)</td>\n",
       "      <td>(-0.00181400704052+0.000146306271331j)</td>\n",
       "      <td>(0.664629821088+0.978294280286j)</td>\n",
       "      <td>(-0.00149296042439+0.000521932074067j)</td>\n",
       "      <td>(0.999099371398+0.924709172188j)</td>\n",
       "    </tr>\n",
       "    <tr>\n",
       "      <th>4</th>\n",
       "      <td>(0.767541441411+0.301493926561j)</td>\n",
       "      <td>(0.678695715866+0.360453260975j)</td>\n",
       "      <td>(-0.76883439948-0.300383203169j)</td>\n",
       "      <td>(-0.680470074308-0.359322016008j)</td>\n",
       "      <td>4</td>\n",
       "      <td>(0.498221276531+0.462818165938j)</td>\n",
       "      <td>(0.330701321387+0.489276167987j)</td>\n",
       "      <td>(0.500876265077+0.461889879245j)</td>\n",
       "      <td>(0.333927210841+0.489015757867j)</td>\n",
       "      <td>(-0.00322588945358+0.00026041012044j)</td>\n",
       "      <td>(0.664628532228+0.978291925854j)</td>\n",
       "      <td>(-0.00265498854628+0.00092828669324j)</td>\n",
       "      <td>(0.999097541608+0.924708045184j)</td>\n",
       "    </tr>\n",
       "  </tbody>\n",
       "</table>\n",
       "</div>"
      ],
      "text/plain": [
       "                              rp_Co                             rp_Ni  \\\n",
       "0  (0.768188760652+0.300938304747j)  (0.679583923472+0.359887622188j)   \n",
       "1   (0.768148377998+0.30097298801j)  (0.679528502482+0.359922941472j)   \n",
       "2  (0.768027170283+0.301077072252j)  (0.679362166021+0.360028925831j)   \n",
       "3  (0.767824958035+0.301250660902j)  (0.679084693372+0.360205654798j)   \n",
       "4  (0.767541441411+0.301493926561j)  (0.678695715866+0.360453260975j)   \n",
       "\n",
       "                               rs_Co                              rs_Ni  \\\n",
       "0  (-0.768188760652-0.300938304747j)  (-0.679583923472-0.359887622188j)   \n",
       "1  (-0.768229136751-0.300903623512j)  (-0.679639336438-0.359852303028j)   \n",
       "2  (-0.768350246109-0.300799569705j)  (-0.679805552511-0.359746320549j)   \n",
       "3  (-0.768552031913-0.300626113047j)  (-0.680082503202-0.359569599795j)   \n",
       "4   (-0.76883439948-0.300383203169j)  (-0.680470074308-0.359322016008j)   \n",
       "\n",
       "   theta                           rp_Co^2                           rp_Ni^2  \\\n",
       "0      0  (0.499550108728+0.462354846712j)   (0.332315208437+0.48914768459j)   \n",
       "1      1   (0.49946719111+0.462383825122j)  (0.332214461888+0.489155794854j)   \n",
       "2      2  (0.499218330858+0.462470743678j)  (0.331912125186+0.489180061765j)   \n",
       "3      3  (0.498803205487+0.462615552131j)  (0.331407907024+0.489220293279j)   \n",
       "4      4  (0.498221276531+0.462818165938j)  (0.330701321387+0.489276167987j)   \n",
       "\n",
       "                            rs_Co^2                           rs_Ni^2  \\\n",
       "0  (0.499550108728+0.462354846712j)   (0.332315208437+0.48914768459j)   \n",
       "1   (0.49963301591+0.462325861872j)  (0.332415947639+0.489139560892j)   \n",
       "2   (0.49988171956+0.462238846825j)   (0.332718174077+0.48911509241j)   \n",
       "3  (0.500296165911+0.462093620057j)  (0.333221914064+0.489073987008j)   \n",
       "4  (0.500876265077+0.461889879245j)  (0.333927210841+0.489015757867j)   \n",
       "\n",
       "                         rp_Ni^2 - rs_Ni^2                 rp_Ni^2 + rs_Ni^2  \\\n",
       "0                                       0j  (0.664630416874+0.978295369181j)   \n",
       "1   (-0.00020148575128+1.62339625101e-05j)  (0.664630409527+0.978295355746j)   \n",
       "2  (-0.000806048890785+6.49693552589e-05j)  (0.664630299263+0.978295154174j)   \n",
       "3   (-0.00181400704052+0.000146306271331j)  (0.664629821088+0.978294280286j)   \n",
       "4    (-0.00322588945358+0.00026041012044j)  (0.664628532228+0.978291925854j)   \n",
       "\n",
       "                         rp_Co^2 - rs_Co^2                 rp_Co^2 + rs_Co^2  \n",
       "0                                       0j  (0.999100217456+0.924709693424j)  \n",
       "1  (-0.000165824800414+5.79632500039e-05j)   (0.99910020702+0.924709686993j)  \n",
       "2  (-0.000663388702619+0.000231896853464j)  (0.999100050418+0.924709590503j)  \n",
       "3   (-0.00149296042439+0.000521932074067j)  (0.999099371398+0.924709172188j)  \n",
       "4    (-0.00265498854628+0.00092828669324j)  (0.999097541608+0.924708045184j)  "
      ]
     },
     "execution_count": 11,
     "metadata": {},
     "output_type": "execute_result"
    }
   ],
   "source": [
    "df = pd.DataFrame({'theta' : theta_list,\n",
    "                   'rp_Ni' : rp_Ni,\n",
    "                   'rs_Ni' : rs_Ni,\n",
    "                   'rp_Co' : rp_Co,\n",
    "                   'rs_Co' : rs_Co})\n",
    "\n",
    "for col in df:\n",
    "    df[col + '^2'] = (df[col])**2\n",
    "df.drop('theta^2', axis = 1, inplace = True)\n",
    "\n",
    "df['rp_Ni^2 - rs_Ni^2'] = df['rp_Ni^2'] - df['rs_Ni^2']\n",
    "df['rp_Ni^2 + rs_Ni^2'] = df['rp_Ni^2'] + df['rs_Ni^2'] \n",
    "\n",
    "df['rp_Co^2 - rs_Co^2'] = df['rp_Co^2'] - df['rs_Co^2']\n",
    "df['rp_Co^2 + rs_Co^2'] = df['rp_Co^2'] + df['rs_Co^2']\n",
    "\n",
    "df.to_csv('Ni_Co_reflectivities.csv', index = False)\n",
    "\n",
    "df.head()"
   ]
  },
  {
   "cell_type": "code",
   "execution_count": 12,
   "metadata": {
    "collapsed": false
   },
   "outputs": [
    {
     "data": {
      "text/plain": [
       "<matplotlib.text.Text at 0x7f28294e61d0>"
      ]
     },
     "execution_count": 12,
     "metadata": {},
     "output_type": "execute_result"
    },
    {
     "data": {
      "image/png": "[encoded data removed]",
      "text/plain": [
       "<matplotlib.figure.Figure at 0x7f28295bce10>"
      ]
     },
     "metadata": {},
     "output_type": "display_data"
    }
   ],
   "source": [
    "plt.plot( df['theta'], df['rp_Ni^2 - rs_Ni^2'].apply(lambda x : x.real),\n",
    "            lw = 3, color = 'r', alpha = 0.5, label = 'real')\n",
    "plt.plot( df['theta'], df['rp_Ni^2 - rs_Ni^2'].apply(lambda x : x.imag),\n",
    "            lw = 3, color = 'b', alpha = 0.5, label = 'imaginary')\n",
    "\n",
    "plt.axhline(y=0, color='k')\n",
    "plt.grid()\n",
    "plt.xlabel(r'$\\theta$ (deg)', fontsize = 16)\n",
    "plt.ylabel(r'$r_p^2 - r_s^2$', fontsize = 20, rotation = 'horizontal', labelpad = 40)\n",
    "\n",
    "plt.legend(loc = 3)\n",
    "\n",
    "plt.title('Nickel', fontsize = 20)"
   ]
  },
  {
   "cell_type": "code",
   "execution_count": 13,
   "metadata": {
    "collapsed": false
   },
   "outputs": [
    {
     "data": {
      "text/plain": [
       "<matplotlib.text.Text at 0x7f282937d790>"
      ]
     },
     "execution_count": 13,
     "metadata": {},
     "output_type": "execute_result"
    },
    {
     "data": {
      "image/png": "[encoded data removed]",
      "text/plain": [
       "<matplotlib.figure.Figure at 0x7f282943e810>"
      ]
     },
     "metadata": {},
     "output_type": "display_data"
    }
   ],
   "source": [
    "plt.plot( df['theta'], df['rp_Ni^2 + rs_Ni^2'].apply(lambda x : x.real),\n",
    "            lw = 3, color = 'r', alpha = 0.5, label = 'real')\n",
    "plt.plot( df['theta'], df['rp_Ni^2 + rs_Ni^2'].apply(lambda x : x.imag),\n",
    "            lw = 3, color = 'b', alpha = 0.5, label = 'imaginary')\n",
    "\n",
    "plt.axhline(y=0, color='k')\n",
    "plt.grid()\n",
    "plt.xlabel(r'$\\theta$ (deg)', fontsize = 16)\n",
    "plt.ylabel(r'$r_p^2 + r_s^2$', fontsize = 20, rotation = 'horizontal', labelpad = 40)\n",
    "\n",
    "plt.legend(loc = 2)\n",
    "\n",
    "plt.title('Nickel', fontsize = 20)"
   ]
  },
  {
   "cell_type": "code",
   "execution_count": 14,
   "metadata": {
    "collapsed": false
   },
   "outputs": [
    {
     "data": {
      "text/plain": [
       "<matplotlib.text.Text at 0x7f28293be050>"
      ]
     },
     "execution_count": 14,
     "metadata": {},
     "output_type": "execute_result"
    },
    {
     "data": {
      "image/png": "[encoded data removed]",
      "text/plain": [
       "<matplotlib.figure.Figure at 0x7f28292eabd0>"
      ]
     },
     "metadata": {},
     "output_type": "display_data"
    }
   ],
   "source": [
    "plt.plot( df['theta'], df['rp_Co^2 - rs_Co^2'].apply(lambda x : x.real),\n",
    "            lw = 3, color = 'r', alpha = 0.5, label = 'real')\n",
    "plt.plot( df['theta'], df['rp_Co^2 - rs_Co^2'].apply(lambda x : x.imag),\n",
    "            lw = 3, color = 'b', alpha = 0.5, label = 'imaginary')\n",
    "\n",
    "plt.axhline(y=0, color='k')\n",
    "plt.grid()\n",
    "plt.xlabel(r'$\\theta$ (deg)', fontsize = 16)\n",
    "plt.ylabel(r'$r_p^2 - r_s^2$', fontsize = 20, rotation = 'horizontal', labelpad = 40)\n",
    "\n",
    "plt.legend(loc = 3)\n",
    "\n",
    "plt.title('Cobalt', fontsize = 20)"
   ]
  },
  {
   "cell_type": "code",
   "execution_count": 15,
   "metadata": {
    "collapsed": false
   },
   "outputs": [
    {
     "data": {
      "text/plain": [
       "<matplotlib.text.Text at 0x7f28291b6550>"
      ]
     },
     "execution_count": 15,
     "metadata": {},
     "output_type": "execute_result"
    },
    {
     "data": {
      "image/png": "[encoded data removed]",
      "text/plain": [
       "<matplotlib.figure.Figure at 0x7f282920b790>"
      ]
     },
     "metadata": {},
     "output_type": "display_data"
    }
   ],
   "source": [
    "plt.plot( df['theta'], df['rp_Co^2 + rs_Co^2'].apply(lambda x : x.real),\n",
    "            lw = 3, color = 'r', alpha = 0.5, label = 'real')\n",
    "plt.plot( df['theta'], df['rp_Co^2 + rs_Co^2'].apply(lambda x : x.imag),\n",
    "            lw = 3, color = 'b', alpha = 0.5, label = 'imaginary')\n",
    "\n",
    "plt.axhline(y=0, color='k')\n",
    "plt.grid()\n",
    "plt.xlabel(r'$\\theta$ (deg)', fontsize = 16)\n",
    "plt.ylabel(r'$r_p^2 + r_s^2$', fontsize = 20, rotation = 'horizontal', labelpad = 40)\n",
    "\n",
    "plt.legend(loc = 2)\n",
    "\n",
    "plt.title('Cobalt', fontsize = 20)"
   ]
  },
  {
   "cell_type": "code",
   "execution_count": 30,
   "metadata": {
    "collapsed": false
   },
   "outputs": [
    {
     "data": {
      "text/html": [
       "<div>\n",
       "<table border=\"1\" class=\"dataframe\">\n",
       "  <thead>\n",
       "    <tr style=\"text-align: right;\">\n",
       "      <th></th>\n",
       "      <th>theta</th>\n",
       "      <th>rp_Co_re</th>\n",
       "      <th>rp_Co_im</th>\n",
       "      <th>rp_Ni_re</th>\n",
       "      <th>rp_Ni_im</th>\n",
       "      <th>rs_Co_re</th>\n",
       "      <th>rs_Co_im</th>\n",
       "      <th>rs_Ni_re</th>\n",
       "      <th>rs_Ni_im</th>\n",
       "      <th>rp_Co^2_re</th>\n",
       "      <th>...</th>\n",
       "      <th>rs_Ni^2_re</th>\n",
       "      <th>rs_Ni^2_im</th>\n",
       "      <th>rp_Ni^2 - rs_Ni^2_re</th>\n",
       "      <th>rp_Ni^2 - rs_Ni^2_im</th>\n",
       "      <th>rp_Ni^2 + rs_Ni^2_re</th>\n",
       "      <th>rp_Ni^2 + rs_Ni^2_im</th>\n",
       "      <th>rp_Co^2 - rs_Co^2_re</th>\n",
       "      <th>rp_Co^2 - rs_Co^2_im</th>\n",
       "      <th>rp_Co^2 + rs_Co^2_re</th>\n",
       "      <th>rp_Co^2 + rs_Co^2_im</th>\n",
       "    </tr>\n",
       "  </thead>\n",
       "  <tbody>\n",
       "    <tr>\n",
       "      <th>0</th>\n",
       "      <td>0</td>\n",
       "      <td>0.768189</td>\n",
       "      <td>0.300938</td>\n",
       "      <td>0.679584</td>\n",
       "      <td>0.359888</td>\n",
       "      <td>-0.768189</td>\n",
       "      <td>-0.300938</td>\n",
       "      <td>-0.679584</td>\n",
       "      <td>-0.359888</td>\n",
       "      <td>0.499550</td>\n",
       "      <td>...</td>\n",
       "      <td>0.332315</td>\n",
       "      <td>0.489148</td>\n",
       "      <td>0.000000</td>\n",
       "      <td>0.000000</td>\n",
       "      <td>0.664630</td>\n",
       "      <td>0.978295</td>\n",
       "      <td>0.000000</td>\n",
       "      <td>0.000000</td>\n",
       "      <td>0.999100</td>\n",
       "      <td>0.924710</td>\n",
       "    </tr>\n",
       "    <tr>\n",
       "      <th>1</th>\n",
       "      <td>1</td>\n",
       "      <td>0.768148</td>\n",
       "      <td>0.300973</td>\n",
       "      <td>0.679529</td>\n",
       "      <td>0.359923</td>\n",
       "      <td>-0.768229</td>\n",
       "      <td>-0.300904</td>\n",
       "      <td>-0.679639</td>\n",
       "      <td>-0.359852</td>\n",
       "      <td>0.499467</td>\n",
       "      <td>...</td>\n",
       "      <td>0.332416</td>\n",
       "      <td>0.489140</td>\n",
       "      <td>-0.000201</td>\n",
       "      <td>0.000016</td>\n",
       "      <td>0.664630</td>\n",
       "      <td>0.978295</td>\n",
       "      <td>-0.000166</td>\n",
       "      <td>0.000058</td>\n",
       "      <td>0.999100</td>\n",
       "      <td>0.924710</td>\n",
       "    </tr>\n",
       "    <tr>\n",
       "      <th>2</th>\n",
       "      <td>2</td>\n",
       "      <td>0.768027</td>\n",
       "      <td>0.301077</td>\n",
       "      <td>0.679362</td>\n",
       "      <td>0.360029</td>\n",
       "      <td>-0.768350</td>\n",
       "      <td>-0.300800</td>\n",
       "      <td>-0.679806</td>\n",
       "      <td>-0.359746</td>\n",
       "      <td>0.499218</td>\n",
       "      <td>...</td>\n",
       "      <td>0.332718</td>\n",
       "      <td>0.489115</td>\n",
       "      <td>-0.000806</td>\n",
       "      <td>0.000065</td>\n",
       "      <td>0.664630</td>\n",
       "      <td>0.978295</td>\n",
       "      <td>-0.000663</td>\n",
       "      <td>0.000232</td>\n",
       "      <td>0.999100</td>\n",
       "      <td>0.924710</td>\n",
       "    </tr>\n",
       "    <tr>\n",
       "      <th>3</th>\n",
       "      <td>3</td>\n",
       "      <td>0.767825</td>\n",
       "      <td>0.301251</td>\n",
       "      <td>0.679085</td>\n",
       "      <td>0.360206</td>\n",
       "      <td>-0.768552</td>\n",
       "      <td>-0.300626</td>\n",
       "      <td>-0.680083</td>\n",
       "      <td>-0.359570</td>\n",
       "      <td>0.498803</td>\n",
       "      <td>...</td>\n",
       "      <td>0.333222</td>\n",
       "      <td>0.489074</td>\n",
       "      <td>-0.001814</td>\n",
       "      <td>0.000146</td>\n",
       "      <td>0.664630</td>\n",
       "      <td>0.978294</td>\n",
       "      <td>-0.001493</td>\n",
       "      <td>0.000522</td>\n",
       "      <td>0.999099</td>\n",
       "      <td>0.924709</td>\n",
       "    </tr>\n",
       "    <tr>\n",
       "      <th>4</th>\n",
       "      <td>4</td>\n",
       "      <td>0.767541</td>\n",
       "      <td>0.301494</td>\n",
       "      <td>0.678696</td>\n",
       "      <td>0.360453</td>\n",
       "      <td>-0.768834</td>\n",
       "      <td>-0.300383</td>\n",
       "      <td>-0.680470</td>\n",
       "      <td>-0.359322</td>\n",
       "      <td>0.498221</td>\n",
       "      <td>...</td>\n",
       "      <td>0.333927</td>\n",
       "      <td>0.489016</td>\n",
       "      <td>-0.003226</td>\n",
       "      <td>0.000260</td>\n",
       "      <td>0.664629</td>\n",
       "      <td>0.978292</td>\n",
       "      <td>-0.002655</td>\n",
       "      <td>0.000928</td>\n",
       "      <td>0.999098</td>\n",
       "      <td>0.924708</td>\n",
       "    </tr>\n",
       "  </tbody>\n",
       "</table>\n",
       "<p>5 rows × 25 columns</p>\n",
       "</div>"
      ],
      "text/plain": [
       "   theta  rp_Co_re  rp_Co_im  rp_Ni_re  rp_Ni_im  rs_Co_re  rs_Co_im  \\\n",
       "0      0  0.768189  0.300938  0.679584  0.359888 -0.768189 -0.300938   \n",
       "1      1  0.768148  0.300973  0.679529  0.359923 -0.768229 -0.300904   \n",
       "2      2  0.768027  0.301077  0.679362  0.360029 -0.768350 -0.300800   \n",
       "3      3  0.767825  0.301251  0.679085  0.360206 -0.768552 -0.300626   \n",
       "4      4  0.767541  0.301494  0.678696  0.360453 -0.768834 -0.300383   \n",
       "\n",
       "   rs_Ni_re  rs_Ni_im  rp_Co^2_re          ...           rs_Ni^2_re  \\\n",
       "0 -0.679584 -0.359888    0.499550          ...             0.332315   \n",
       "1 -0.679639 -0.359852    0.499467          ...             0.332416   \n",
       "2 -0.679806 -0.359746    0.499218          ...             0.332718   \n",
       "3 -0.680083 -0.359570    0.498803          ...             0.333222   \n",
       "4 -0.680470 -0.359322    0.498221          ...             0.333927   \n",
       "\n",
       "   rs_Ni^2_im  rp_Ni^2 - rs_Ni^2_re  rp_Ni^2 - rs_Ni^2_im  \\\n",
       "0    0.489148              0.000000              0.000000   \n",
       "1    0.489140             -0.000201              0.000016   \n",
       "2    0.489115             -0.000806              0.000065   \n",
       "3    0.489074             -0.001814              0.000146   \n",
       "4    0.489016             -0.003226              0.000260   \n",
       "\n",
       "   rp_Ni^2 + rs_Ni^2_re  rp_Ni^2 + rs_Ni^2_im  rp_Co^2 - rs_Co^2_re  \\\n",
       "0              0.664630              0.978295              0.000000   \n",
       "1              0.664630              0.978295             -0.000166   \n",
       "2              0.664630              0.978295             -0.000663   \n",
       "3              0.664630              0.978294             -0.001493   \n",
       "4              0.664629              0.978292             -0.002655   \n",
       "\n",
       "   rp_Co^2 - rs_Co^2_im  rp_Co^2 + rs_Co^2_re  rp_Co^2 + rs_Co^2_im  \n",
       "0              0.000000              0.999100              0.924710  \n",
       "1              0.000058              0.999100              0.924710  \n",
       "2              0.000232              0.999100              0.924710  \n",
       "3              0.000522              0.999099              0.924709  \n",
       "4              0.000928              0.999098              0.924708  \n",
       "\n",
       "[5 rows x 25 columns]"
      ]
     },
     "execution_count": 30,
     "metadata": {},
     "output_type": "execute_result"
    }
   ],
   "source": [
    "df_parsed = pd.DataFrame({'theta' : df['theta']})\n",
    "\n",
    "for col in df:\n",
    "    if df[col].dtype == 'complex128':\n",
    "        df_parsed[col + '_re'] = df[col].real\n",
    "        df_parsed[col + '_im'] = df[col].imag\n",
    "\n",
    "df_parsed.head()"
   ]
  },
  {
   "cell_type": "code",
   "execution_count": 31,
   "metadata": {
    "collapsed": false
   },
   "outputs": [],
   "source": [
    "df_parsed.to_csv('Ni_Co_reflectivities_parsed.csv', index = False)"
   ]
  },
  {
   "cell_type": "code",
   "execution_count": null,
   "metadata": {
    "collapsed": true
   },
   "outputs": [],
   "source": []
  }
 ],
 "metadata": {
  "kernelspec": {
   "display_name": "Python 2",
   "language": "python",
   "name": "python2"
  },
  "language_info": {
   "codemirror_mode": {
    "name": "ipython",
    "version": 2
   },
   "file_extension": ".py",
   "mimetype": "text/x-python",
   "name": "python",
   "nbconvert_exporter": "python",
   "pygments_lexer": "ipython2",
   "version": "2.7.9"
  }
 },
 "nbformat": 4,
 "nbformat_minor": 0
}
