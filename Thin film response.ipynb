{
 "cells": [
  {
   "cell_type": "code",
   "execution_count": 84,
   "metadata": {
    "collapsed": false
   },
   "outputs": [],
   "source": [
    "from __future__ import division\n",
    "\n",
    "from sympy import *\n",
    "\n",
    "init_printing()"
   ]
  },
  {
   "cell_type": "code",
   "execution_count": 90,
   "metadata": {
    "collapsed": false
   },
   "outputs": [],
   "source": [
    "# dielectric constants\n",
    "e1 = Symbol('epsilon_1')\n",
    "e2 = Symbol('epsilon_2')\n",
    "e3 = Symbol('epsilon_3')\n",
    "\n",
    "# indices of refraction\n",
    "n1 = sqrt(e1)\n",
    "n2 = sqrt(e2)\n",
    "n3 = sqrt(e3)\n",
    "\n",
    "# angles of incidence\n",
    "theta1  = Symbol('theta')\n",
    "# theta2  = Symbol('theta_2')\n",
    "# theta3  = Symbol('theta_3')\n",
    "\n",
    "theta2  = asin((n1/n2) * sin(theta1))\n",
    "theta3  = asin((n1/n3) * sin(theta1))\n",
    "\n",
    "# # thickness and wavelength\n",
    "# d = Symbol('d')\n",
    "# lamda = Symbol('lamda')\n",
    "\n",
    "gamma = 2 * pi * n2 * cos(theta2) * d / lamda\n",
    "\n",
    "# # full exponent\n",
    "# # exponent = exp(2*I*gamma)\n",
    "\n",
    "# # first order\n",
    "# exponent = 1 + 2*I*gamma\n",
    "\n",
    "# # second order\n",
    "# # exponent = 1 + 2*I*gamma - 2*gamma**2\n",
    "\n",
    "# reflectivities\n",
    "rs12 = (n1 * cos(theta1) - n2 * cos(theta2)) / (n1 * cos(theta1) + n2 * cos(theta2))\n",
    "rs23 = (n2 * cos(theta2) - n3 * cos(theta3)) / (n2 * cos(theta2) + n3 * cos(theta3))\n",
    "rs13 = (n1 * cos(theta1) - n3 * cos(theta3)) / (n1 * cos(theta1) + n3 * cos(theta3))\n",
    "\n",
    "rp12 = (n2 * cos(theta1) - n1 * cos(theta2)) / (n2 * cos(theta1) + n1 * cos(theta2))\n",
    "rp23 = (n3 * cos(theta2) - n2 * cos(theta3)) / (n3 * cos(theta2) + n2 * cos(theta3))\n",
    "rp13 = (n3 * cos(theta1) - n1 * cos(theta3)) / (n3 * cos(theta1) + n1 * cos(theta3))\n",
    "\n",
    "# rs0 = (rs12 + rs23)/(1 + rs12 * rs23)\n",
    "# rp0 = (rp12 + rp23)/(1 + rp12 * rp23)\n",
    "\n",
    "# rs = (rs12 + rs23 * exponent)/(1 + rs12 * rs23 * exponent)\n",
    "# rp = (rp12 + rp23 * exponent)/(1 + rp12 * rp23 * exponent)"
   ]
  },
  {
   "cell_type": "code",
   "execution_count": 86,
   "metadata": {
    "collapsed": false
   },
   "outputs": [],
   "source": [
    "deltap1 = 2*I*rp23*(1 - rp12*rp13)*gamma/(rp12 + rp23)\n",
    "deltas1 = 2*I*rs23*(1 - rs12*rs13)*gamma/(rs12 + rs23)"
   ]
  },
  {
   "cell_type": "code",
   "execution_count": 76,
   "metadata": {
    "collapsed": false
   },
   "outputs": [
    {
     "data": {
      "image/png": "[encoded data removed]",
      "text/latex": [
       "$$\\frac{4 i \\pi d \\sqrt{\\epsilon_{1}} \\epsilon_{3} \\left(\\epsilon_{1} - \\epsilon_{2}\\right) \\left(\\epsilon_{2} - \\epsilon_{3}\\right) \\sin^{2}{\\left (\\theta_{1} \\right )} \\cos{\\left (\\theta_{1} \\right )}}{\\epsilon_{2} \\lambda \\left(\\epsilon_{1} - \\epsilon_{3}\\right) \\left(\\epsilon_{1} \\sin^{2}{\\left (\\theta_{1} \\right )} + \\epsilon_{3} \\sin^{2}{\\left (\\theta_{1} \\right )} - \\epsilon_{3}\\right)}$$"
      ],
      "text/plain": [
       "          ____                           2            \n",
       "4⋅ⅈ⋅π⋅d⋅╲╱ ε₁ ⋅ε₃⋅(ε₁ - ε₂)⋅(ε₂ - ε₃)⋅sin (θ₁)⋅cos(θ₁)\n",
       "──────────────────────────────────────────────────────\n",
       "                  ⎛      2             2         ⎞    \n",
       "   ε₂⋅λ⋅(ε₁ - ε₃)⋅⎝ε₁⋅sin (θ₁) + ε₃⋅sin (θ₁) - ε₃⎠    "
      ]
     },
     "execution_count": 76,
     "metadata": {},
     "output_type": "execute_result"
    }
   ],
   "source": [
    "factor(simplify(deltap1 - deltas1))"
   ]
  },
  {
   "cell_type": "code",
   "execution_count": 91,
   "metadata": {
    "collapsed": false
   },
   "outputs": [],
   "source": [
    "deltap2 = -2*rp23*rp13*(1 - rp12*rp23)*(1 - rp12*rp13)/(rp12 + rp23)**2\n",
    "deltas2 = -2*rs23*rs13*(1 - rs12*rs23)*(1 - rs12*rs13)/(rs12 + rs23)**2"
   ]
  },
  {
   "cell_type": "code",
   "execution_count": null,
   "metadata": {
    "collapsed": false
   },
   "outputs": [],
   "source": [
    "factor(simplify(deltap2 - deltas2))"
   ]
  },
  {
   "cell_type": "code",
   "execution_count": null,
   "metadata": {
    "collapsed": true
   },
   "outputs": [],
   "source": []
  }
 ],
 "metadata": {
  "kernelspec": {
   "display_name": "Python 2",
   "language": "python",
   "name": "python2"
  },
  "language_info": {
   "codemirror_mode": {
    "name": "ipython",
    "version": 2
   },
   "file_extension": ".py",
   "mimetype": "text/x-python",
   "name": "python",
   "nbconvert_exporter": "python",
   "pygments_lexer": "ipython2",
   "version": "2.7.9"
  }
 },
 "nbformat": 4,
 "nbformat_minor": 0
}
